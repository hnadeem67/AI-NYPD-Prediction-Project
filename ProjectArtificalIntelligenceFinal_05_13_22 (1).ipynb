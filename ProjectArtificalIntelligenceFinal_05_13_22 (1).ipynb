{
  "cells": [
    {
      "cell_type": "code",
      "execution_count": null,
      "metadata": {
        "id": "5o14wl2x-cf7"
      },
      "outputs": [],
      "source": [
        "# Version 1.01\n",
        "# Authors: 1) Hamza Nadeem\n",
        "#          2) Monica Restrepo\n",
        "#          3) Nency Borad\n",
        "#          4) Ajinkya Mukherjee\n",
        "# Date      Name  Version Description\n",
        "# 5/6/2022  SCL   1.01    Refactor code for Hypothesis (part II), and remove all\n",
        "#                         EDA code.\n",
        "#                 1.01    Perform Feature Selection and create utility matrix\n",
        "#                         labelled data, for supervised machine learning\n",
        "#\n",
        "# -  -  -  -  -  -  -  -  -  -  -  -  -  -  -  -  -  -  -  -  -  -  -  -  -"
      ]
    },
    {
      "cell_type": "code",
      "execution_count": null,
      "metadata": {
        "id": "A1Nz23PhwyuA"
      },
      "outputs": [],
      "source": [
        "# Features: 1) PopSize \n",
        "#           2) Time\n",
        "#           3) Date\n",
        "#           4) Num of complaints\n",
        "#           5) Type of Crime [Felony, Misdorminor, Violation]\n",
        "#           -) Class = [ Low Crime, Medium Crime, High Crime ]\n",
        "#               10 = Low\n",
        "#              200 = Medium\n",
        "#             9000 = High\n",
        "\n",
        "# Hypo: FIgure out which zip codes will increase/dec in crime rate? \n",
        "#and we need to categorize the dataset into LOW MID HIGH  \n",
        "# Algorithms: 1) SVM\n",
        "#             2) Bayes (NB)\n",
        "#             3) Random Forest\n",
        "#             4) Logistic Regression (0 or 1)\n",
        "# -  -  -  -  -  -  -  -  -  -  -  -  -  -  -  -  -  -  -  -  -  -  -  -  -"
      ]
    },
    {
      "cell_type": "code",
      "execution_count": null,
      "metadata": {
        "id": "G_okfUMr91gm"
      },
      "outputs": [],
      "source": [
        "# Questions to ask Professor\n",
        "# Q1: We did all this, how do add them to our Feature list\n",
        "# Q2: How do we Classify what is high,low,medium ( How do we get the score) = Range of the score\n",
        "# Q3: How do we get Population by Zipcode from total population of Burrow\n",
        "# Q4: Can we use the Number of Crimes in Each Zipcode as our Feature for number of complaints / per area\n",
        "# Q5: How do we add Labels to our dataset inorder to Train them - adding Labels to the Testing set\n",
        "# Q6: How does the iris dataset have so many features & Classes, how do we optimize our features accordingly \n",
        "#     and why do we require so many featueres and Classes?\n",
        "# Q7: Are we implementing the Alogirthms correct"
      ]
    },
    {
      "cell_type": "code",
      "execution_count": null,
      "metadata": {
        "colab": {
          "base_uri": "https://localhost:8080/"
        },
        "id": "UzdfRCrN3i7F",
        "outputId": "6baf7458-af82-47a4-fb77-1dbdf9c8e4af"
      },
      "outputs": [
        {
          "output_type": "stream",
          "name": "stdout",
          "text": [
            "Mounted at /content/gdrive\n"
          ]
        }
      ],
      "source": [
        "from google.colab import drive\n",
        "drive.flush_and_unmount()\n",
        "drive.mount('/content/gdrive');"
      ]
    },
    {
      "cell_type": "code",
      "source": [
        "pip install scikit-learn-intelex"
      ],
      "metadata": {
        "colab": {
          "base_uri": "https://localhost:8080/"
        },
        "id": "25ZE6XQfhZxj",
        "outputId": "bbb0c4b3-b9d8-4184-f4b3-5f25f7aebc96"
      },
      "execution_count": null,
      "outputs": [
        {
          "output_type": "stream",
          "name": "stdout",
          "text": [
            "Requirement already satisfied: scikit-learn-intelex in /usr/local/lib/python3.7/dist-packages (2021.5.3)\n",
            "Requirement already satisfied: scikit-learn>=0.22 in /usr/local/lib/python3.7/dist-packages (from scikit-learn-intelex) (1.0.2)\n",
            "Requirement already satisfied: daal4py==2021.5.3 in /usr/local/lib/python3.7/dist-packages (from scikit-learn-intelex) (2021.5.3)\n",
            "Requirement already satisfied: numpy>=1.15 in /usr/local/lib/python3.7/dist-packages (from daal4py==2021.5.3->scikit-learn-intelex) (1.21.6)\n",
            "Requirement already satisfied: daal==2021.5.3 in /usr/local/lib/python3.7/dist-packages (from daal4py==2021.5.3->scikit-learn-intelex) (2021.5.3)\n",
            "Requirement already satisfied: tbb==2021.* in /usr/local/lib/python3.7/dist-packages (from daal==2021.5.3->daal4py==2021.5.3->scikit-learn-intelex) (2021.6.0)\n",
            "Requirement already satisfied: scipy>=1.1.0 in /usr/local/lib/python3.7/dist-packages (from scikit-learn>=0.22->scikit-learn-intelex) (1.4.1)\n",
            "Requirement already satisfied: threadpoolctl>=2.0.0 in /usr/local/lib/python3.7/dist-packages (from scikit-learn>=0.22->scikit-learn-intelex) (3.1.0)\n",
            "Requirement already satisfied: joblib>=0.11 in /usr/local/lib/python3.7/dist-packages (from scikit-learn>=0.22->scikit-learn-intelex) (1.1.0)\n"
          ]
        }
      ]
    },
    {
      "cell_type": "code",
      "source": [
        "# from sklearnex import patch_sklearn \n",
        "\n",
        "# patch_sklearn()"
      ],
      "metadata": {
        "id": "qOwE2f4chad_"
      },
      "execution_count": null,
      "outputs": []
    },
    {
      "cell_type": "code",
      "execution_count": null,
      "metadata": {
        "colab": {
          "base_uri": "https://localhost:8080/"
        },
        "id": "w2Kq7rFeoomm",
        "outputId": "8776393a-7d27-4ac1-b878-46ac82db61bf"
      },
      "outputs": [
        {
          "output_type": "stream",
          "name": "stderr",
          "text": [
            "/usr/local/lib/python3.7/dist-packages/IPython/core/interactiveshell.py:2882: DtypeWarning: Columns (17) have mixed types.Specify dtype option on import or set low_memory=False.\n",
            "  exec(code_obj, self.user_global_ns, self.user_ns)\n"
          ]
        }
      ],
      "source": [
        "import pandas as pd\n",
        "import seaborn as sns\n",
        "import matplotlib.pyplot as plt\n",
        "import numpy as np\n",
        "\n",
        "\n",
        "df1 = pd.read_csv('/content/gdrive/MyDrive/AI/final_project_csvs/NYPD_Complaint_Data_Historic.csv')\n",
        "df2 = pd.read_csv('/content/gdrive/MyDrive/AI/final_project_csvs/Crime_Column_Description.csv')\n",
        "df3 = pd.read_csv('/content/gdrive/MyDrive/AI/final_project_csvs/Population_by_Borough_NYC.csv')\n",
        "#df4 = pd.read_csv('/content/gdrive/MyDrive/AI/final_project_csvs/ziptoborough.csv')\n",
        "# newData = pd.read_csv('US.csv')\n",
        "# zip_codes = pd.read_csv('/content/gdrive/MyDrive/AI/final_project_csvs/us.csv')\n",
        "\n",
        "# zip_codes\n"
      ]
    },
    {
      "cell_type": "code",
      "execution_count": null,
      "metadata": {
        "colab": {
          "base_uri": "https://localhost:8080/",
          "height": 424
        },
        "id": "NQ3bVYp1JJSE",
        "outputId": "c63fa0ab-128a-4070-c66b-e060e634b5e6"
      },
      "outputs": [
        {
          "output_type": "execute_result",
          "data": {
            "text/plain": [
              "         Longitude   Latitude\n",
              "0       -73.916661  40.828848\n",
              "1       -73.784557  40.697338\n",
              "2       -73.945052  40.802607\n",
              "3       -73.726339  40.654549\n",
              "4       -73.987891  40.738002\n",
              "...            ...        ...\n",
              "1048570 -73.920767  40.806932\n",
              "1048571 -73.895227  40.660901\n",
              "1048572 -74.004681  40.723909\n",
              "1048573 -73.872939  40.877554\n",
              "1048574 -73.940855  40.814113\n",
              "\n",
              "[1048575 rows x 2 columns]"
            ],
            "text/html": [
              "\n",
              "  <div id=\"df-18c0652b-23c0-45c5-b928-1c1a4ec9e0eb\">\n",
              "    <div class=\"colab-df-container\">\n",
              "      <div>\n",
              "<style scoped>\n",
              "    .dataframe tbody tr th:only-of-type {\n",
              "        vertical-align: middle;\n",
              "    }\n",
              "\n",
              "    .dataframe tbody tr th {\n",
              "        vertical-align: top;\n",
              "    }\n",
              "\n",
              "    .dataframe thead th {\n",
              "        text-align: right;\n",
              "    }\n",
              "</style>\n",
              "<table border=\"1\" class=\"dataframe\">\n",
              "  <thead>\n",
              "    <tr style=\"text-align: right;\">\n",
              "      <th></th>\n",
              "      <th>Longitude</th>\n",
              "      <th>Latitude</th>\n",
              "    </tr>\n",
              "  </thead>\n",
              "  <tbody>\n",
              "    <tr>\n",
              "      <th>0</th>\n",
              "      <td>-73.916661</td>\n",
              "      <td>40.828848</td>\n",
              "    </tr>\n",
              "    <tr>\n",
              "      <th>1</th>\n",
              "      <td>-73.784557</td>\n",
              "      <td>40.697338</td>\n",
              "    </tr>\n",
              "    <tr>\n",
              "      <th>2</th>\n",
              "      <td>-73.945052</td>\n",
              "      <td>40.802607</td>\n",
              "    </tr>\n",
              "    <tr>\n",
              "      <th>3</th>\n",
              "      <td>-73.726339</td>\n",
              "      <td>40.654549</td>\n",
              "    </tr>\n",
              "    <tr>\n",
              "      <th>4</th>\n",
              "      <td>-73.987891</td>\n",
              "      <td>40.738002</td>\n",
              "    </tr>\n",
              "    <tr>\n",
              "      <th>...</th>\n",
              "      <td>...</td>\n",
              "      <td>...</td>\n",
              "    </tr>\n",
              "    <tr>\n",
              "      <th>1048570</th>\n",
              "      <td>-73.920767</td>\n",
              "      <td>40.806932</td>\n",
              "    </tr>\n",
              "    <tr>\n",
              "      <th>1048571</th>\n",
              "      <td>-73.895227</td>\n",
              "      <td>40.660901</td>\n",
              "    </tr>\n",
              "    <tr>\n",
              "      <th>1048572</th>\n",
              "      <td>-74.004681</td>\n",
              "      <td>40.723909</td>\n",
              "    </tr>\n",
              "    <tr>\n",
              "      <th>1048573</th>\n",
              "      <td>-73.872939</td>\n",
              "      <td>40.877554</td>\n",
              "    </tr>\n",
              "    <tr>\n",
              "      <th>1048574</th>\n",
              "      <td>-73.940855</td>\n",
              "      <td>40.814113</td>\n",
              "    </tr>\n",
              "  </tbody>\n",
              "</table>\n",
              "<p>1048575 rows × 2 columns</p>\n",
              "</div>\n",
              "      <button class=\"colab-df-convert\" onclick=\"convertToInteractive('df-18c0652b-23c0-45c5-b928-1c1a4ec9e0eb')\"\n",
              "              title=\"Convert this dataframe to an interactive table.\"\n",
              "              style=\"display:none;\">\n",
              "        \n",
              "  <svg xmlns=\"http://www.w3.org/2000/svg\" height=\"24px\"viewBox=\"0 0 24 24\"\n",
              "       width=\"24px\">\n",
              "    <path d=\"M0 0h24v24H0V0z\" fill=\"none\"/>\n",
              "    <path d=\"M18.56 5.44l.94 2.06.94-2.06 2.06-.94-2.06-.94-.94-2.06-.94 2.06-2.06.94zm-11 1L8.5 8.5l.94-2.06 2.06-.94-2.06-.94L8.5 2.5l-.94 2.06-2.06.94zm10 10l.94 2.06.94-2.06 2.06-.94-2.06-.94-.94-2.06-.94 2.06-2.06.94z\"/><path d=\"M17.41 7.96l-1.37-1.37c-.4-.4-.92-.59-1.43-.59-.52 0-1.04.2-1.43.59L10.3 9.45l-7.72 7.72c-.78.78-.78 2.05 0 2.83L4 21.41c.39.39.9.59 1.41.59.51 0 1.02-.2 1.41-.59l7.78-7.78 2.81-2.81c.8-.78.8-2.07 0-2.86zM5.41 20L4 18.59l7.72-7.72 1.47 1.35L5.41 20z\"/>\n",
              "  </svg>\n",
              "      </button>\n",
              "      \n",
              "  <style>\n",
              "    .colab-df-container {\n",
              "      display:flex;\n",
              "      flex-wrap:wrap;\n",
              "      gap: 12px;\n",
              "    }\n",
              "\n",
              "    .colab-df-convert {\n",
              "      background-color: #E8F0FE;\n",
              "      border: none;\n",
              "      border-radius: 50%;\n",
              "      cursor: pointer;\n",
              "      display: none;\n",
              "      fill: #1967D2;\n",
              "      height: 32px;\n",
              "      padding: 0 0 0 0;\n",
              "      width: 32px;\n",
              "    }\n",
              "\n",
              "    .colab-df-convert:hover {\n",
              "      background-color: #E2EBFA;\n",
              "      box-shadow: 0px 1px 2px rgba(60, 64, 67, 0.3), 0px 1px 3px 1px rgba(60, 64, 67, 0.15);\n",
              "      fill: #174EA6;\n",
              "    }\n",
              "\n",
              "    [theme=dark] .colab-df-convert {\n",
              "      background-color: #3B4455;\n",
              "      fill: #D2E3FC;\n",
              "    }\n",
              "\n",
              "    [theme=dark] .colab-df-convert:hover {\n",
              "      background-color: #434B5C;\n",
              "      box-shadow: 0px 1px 3px 1px rgba(0, 0, 0, 0.15);\n",
              "      filter: drop-shadow(0px 1px 2px rgba(0, 0, 0, 0.3));\n",
              "      fill: #FFFFFF;\n",
              "    }\n",
              "  </style>\n",
              "\n",
              "      <script>\n",
              "        const buttonEl =\n",
              "          document.querySelector('#df-18c0652b-23c0-45c5-b928-1c1a4ec9e0eb button.colab-df-convert');\n",
              "        buttonEl.style.display =\n",
              "          google.colab.kernel.accessAllowed ? 'block' : 'none';\n",
              "\n",
              "        async function convertToInteractive(key) {\n",
              "          const element = document.querySelector('#df-18c0652b-23c0-45c5-b928-1c1a4ec9e0eb');\n",
              "          const dataTable =\n",
              "            await google.colab.kernel.invokeFunction('convertToInteractive',\n",
              "                                                     [key], {});\n",
              "          if (!dataTable) return;\n",
              "\n",
              "          const docLinkHtml = 'Like what you see? Visit the ' +\n",
              "            '<a target=\"_blank\" href=https://colab.research.google.com/notebooks/data_table.ipynb>data table notebook</a>'\n",
              "            + ' to learn more about interactive tables.';\n",
              "          element.innerHTML = '';\n",
              "          dataTable['output_type'] = 'display_data';\n",
              "          await google.colab.output.renderOutput(dataTable, element);\n",
              "          const docLink = document.createElement('div');\n",
              "          docLink.innerHTML = docLinkHtml;\n",
              "          element.appendChild(docLink);\n",
              "        }\n",
              "      </script>\n",
              "    </div>\n",
              "  </div>\n",
              "  "
            ]
          },
          "metadata": {},
          "execution_count": 49
        }
      ],
      "source": [
        "\n",
        "df5 = pd.DataFrame(df1[['Longitude','Latitude']])\n",
        "# df1['Latitude']\n",
        "df5"
      ]
    },
    {
      "cell_type": "code",
      "execution_count": null,
      "metadata": {
        "id": "Famm8wj-ShXv"
      },
      "outputs": [],
      "source": [
        "# 54.143 - Lat\n",
        "# -165.7854 - Long\n",
        "# zc = zip_codes.head(10)\n",
        "# zc\n",
        "\n",
        "\n",
        "#helper\n",
        "\n",
        "# def findZip(lat, long):\n",
        "  # print('lat', \"%.4f\" % lat)\n",
        "\n",
        "  # lat = \"%.4f\" % lat\n",
        "  # long = \"%.4f\" % long\n",
        "  # print('lat', lat)\n",
        "  # print('long', long)\n",
        "  # t = np.where((zip_codes['Latitude'] == lat) & (zip_codes['Longitude'] == long), zip_codes['ZIP'], 99999)\n",
        "  # print('here====>', t)\n",
        "  # if zip_codes['Latitude'] == lat:\n",
        "  #   if zip_codes['Longitude'] == long:\n",
        "  #     print('We got it!!', zip_codes['Zip'])\n",
        "\n",
        "# s= df5.head(20)\n",
        "# df5['Longitude'] = df5['Longitude'].astype(float)\n",
        "# df5['Latitude'] = df5['Latitude'].astype(float)\n",
        "# df5['Longitude'] = \"%.6f\" % df5['Longitude']\n",
        "# df5['Latitude'] = \"%.6f\" % df5['Latitude']\n",
        "\n",
        "# df5 = np.where(df1['Latitude'] == zc['Latitude'] and df1['Longitude'] == zc['Longitude'],zc['zip'],99999)\n",
        "# # t\n",
        "# for i, value in s.iterrows():\n",
        "#   # print('idx', i)\n",
        "#   # print('value ====> ', value)\n",
        "#   findZip(value['Latitude'], value['Longitude'])\n",
        "    # print('lat only :::::>', value['Latitude'])\n",
        "\n",
        "\n",
        "# df5['Zipcode'] = np.where(df1['Latitude'] == zip_codes['Latitude'] and df1['Longitude'] == zip_codes['Longitude'],zip_codes['zip'],99999)\n",
        "\n",
        "# newData['LONG']\n",
        "# zipcode_Dict = newData.set_index('ZIP').T.to_dict('list')"
      ]
    },
    {
      "cell_type": "code",
      "execution_count": null,
      "metadata": {
        "id": "lldL9TijaQj9"
      },
      "outputs": [],
      "source": [
        "# zipcode_Dict"
      ]
    },
    {
      "cell_type": "code",
      "execution_count": null,
      "metadata": {
        "id": "tKryC3bm41mp"
      },
      "outputs": [],
      "source": [
        "def makeCategories(df):\n",
        "  category = [health,residence,worship,pub,retail,Tranportation,Food_Beverage,finance,other]\n",
        "  residence_count = 0\n",
        "  health_count = 0\n",
        "  worship_count = 0\n",
        "  pub_count = 0\n",
        "  retial_count = 0\n",
        "  tranport_count = 0\n",
        "  foodbev_count = 0\n",
        "  finance_count = 0\n",
        "  other_count = 0\n",
        "  df['Food & beverage'] = 0\n",
        "\n",
        "  for a in df['PREM_TYP_DESC']:\n",
        "    if a in residence:      \n",
        "      residence_count += 1\n",
        "      \n",
        "    if a in other:\n",
        "      other_count += 1\n",
        "\n",
        "    if a in finance:\n",
        "      finance_count += 1\n",
        "\n",
        "    if a in Food_Beverage:\n",
        "      foodbev_count += 1\n",
        "      df['Food and beverage'] = 1\n",
        "      pass\n",
        "\n",
        "    if a in Tranportation:\n",
        "      tranport_count += 1\n",
        "\n",
        "    if a in retail:\n",
        "      retial_count += 1\n",
        "\n",
        "    if a in worship:\n",
        "      worship_count += 1\n",
        "        \n",
        "    if a in health:\n",
        "      health_count += 1\n",
        "      \n",
        "  print('residence',residence_count)\n",
        "  print('other',other_count)\n",
        "  print('finance',finance_count)\n",
        "  print('food',foodbev_count)        \n",
        "  print('Transport',tranport_count)\n",
        "  print('Retail',retial_count)\n",
        "  print('Worship',worship_count)\n",
        "  print('Health',health_count)\n",
        "\n",
        "  return residence_count, other_count, finance_count, foodbev_count, tranport_count, retial_count, worship_count, health_count, pub_count"
      ]
    },
    {
      "cell_type": "code",
      "execution_count": null,
      "metadata": {
        "id": "meHu0-yihWnZ"
      },
      "outputs": [],
      "source": [
        "df1 = df1.sample(1000)"
      ]
    },
    {
      "cell_type": "code",
      "execution_count": null,
      "metadata": {
        "id": "CBDQoLQBiIfg"
      },
      "outputs": [],
      "source": [
        "health = ['DRUG STORE','DOCTOR/DENTIST OFFICE','HOSPITAL']\n",
        "residence = ['RESIDENCE-HOUSE','RESIDENCE - APT. HOUSE','RESIDENCE - PUBLIC HOUSING']\n",
        "worship = ['CHURCH','SYNAGOGUE','OTHER HOUSE OF WORSHIP','MOSQUE']\n",
        "pub = ['STREET','PUBLIC BUILDING','PARK/PLAYGROUND','PARKING LOT/GARAGE (PUBLIC)','PRIVATE/PAROCHIAL SCHOOL','BOOK/CARD','MARINA/PIER',\n",
        "       'PUBLIC SCHOOL','CEMETERY']\n",
        "retail = ['DRY CLEANER/LAUNDRY','GAS STATION','CHAIN STORE','BEAUTY & NAIL SALON',\n",
        "          'COMMERCIAL BUILDING','HOTEL/MOTEL','SMALL MERCHANT','PARKING LOT/GARAGE (PRIVATE)',\n",
        "          'DEPARTMENT STORE','GYM/FITNESS FACILITY','VARIETY STORE','CLOTHING/BOUTIQUE','TELECOMM. STORE',\n",
        "          'JEWELRY','CANDY STORE','STORAGE FACILITY','VIDEO STORE']\n",
        "Tranportation = ['TUNNEL','TRANSIT - NYC SUBWAY','BUS (NYC TRANSIT)','FERRY/FERRY TERMINAL','BUS STOP','TAXI (LIVERY LICENSED)',\n",
        "                 'BRIDGE','AIRPORT TERMINAL','HIGHWAY/PARKWAY','BUS (OTHER)',\n",
        "                 'TRANSIT FACILITY (OTHER)','BUS TERMINAL','TAXI (YELLOW LICENSED)','TAXI/LIVERY (UNLICENSED)','TRAMWAY']\n",
        "Food_Beverage= ['BAR/NIGHT CLUB' , 'FAST FOOD' , 'RESTAURANT/DINER' , 'GROCERY/BODEGA' , 'FOOD SUPERMARKET' , 'SOCIAL CLUB/POLICY' , 'LIQUOR STORE']\n",
        "finance = ['CHECK CASHING BUSINESS','BANK','ATM','LOAN COMPANY']\n",
        "other = ['OTHER','STORE UNCLASSIFIED','CONSTRUCTION SITE','FACTORY/WAREHOUSE','OPEN AREAS (OPEN LOTS)','ABANDONED BUILDING','SHOE','PHOTO/COPY']"
      ]
    },
    {
      "cell_type": "code",
      "execution_count": null,
      "metadata": {
        "colab": {
          "base_uri": "https://localhost:8080/",
          "height": 353
        },
        "id": "HNxU7_SU-su0",
        "outputId": "d1e119a3-95ad-49e4-b646-2c304ba1b10d"
      },
      "outputs": [
        {
          "output_type": "execute_result",
          "data": {
            "text/plain": [
              "        CMPLNT_NUM CMPLNT_FR_DT CMPLNT_FR_TM CMPLNT_TO_DT CMPLNT_TO_TM  \\\n",
              "760094   742171909     6/6/2014     11:00:00     6/6/2014     11:20:00   \n",
              "77828    438040109   10/31/2015     11:00:00   10/31/2015     11:05:00   \n",
              "387653   142492677    3/20/2015     22:30:00    3/20/2015     22:35:00   \n",
              "978580   227346990   12/24/2013     11:45:00   12/24/2013     12:20:00   \n",
              "\n",
              "            RPT_DT  KY_CD                       OFNS_DESC  PD_CD  \\\n",
              "760094    6/9/2014    359  OFFENSES AGAINST PUBLIC ADMINI  749.0   \n",
              "77828    11/1/2015    106                  FELONY ASSAULT  105.0   \n",
              "387653   3/21/2015    113                         FORGERY  729.0   \n",
              "978580  12/24/2013    578                   HARRASSMENT 2  638.0   \n",
              "\n",
              "                               PD_DESC  ... ADDR_PCT_CD LOC_OF_OCCUR_DESC  \\\n",
              "760094  VIOLATION OF ORDER OF PROTECTI  ...       103.0          FRONT OF   \n",
              "77828                STRANGULATION 1ST  ...       103.0            INSIDE   \n",
              "387653  FORGERY,ETC.,UNCLASSIFIED-FELO  ...        33.0               NaN   \n",
              "978580           HARASSMENT,SUBD 3,4,5  ...        79.0            INSIDE   \n",
              "\n",
              "                     PREM_TYP_DESC PARKS_NM  HADEVELOPT X_COORD_CD Y_COORD_CD  \\\n",
              "760094             PUBLIC BUILDING      NaN         NaN  1038771.0   195254.0   \n",
              "77828                       STREET      NaN         NaN  1041453.0   197361.0   \n",
              "387653                      STREET      NaN         NaN  1002974.0   247561.0   \n",
              "978580  RESIDENCE - PUBLIC HOUSING      NaN       MARCY   997366.0   192877.0   \n",
              "\n",
              "         Latitude  Longitude                        Lat_Lon  \n",
              "760094  40.702444 -73.803367  (40.702444153, -73.803366663)  \n",
              "77828   40.708210 -73.793676   (40.708210426, -73.79367593)  \n",
              "387653  40.846161 -73.932326  (40.846161249, -73.932325855)  \n",
              "978580  40.696078 -73.952702  (40.696078078, -73.952701992)  \n",
              "\n",
              "[4 rows x 24 columns]"
            ],
            "text/html": [
              "\n",
              "  <div id=\"df-15b51dc9-65ed-4372-9229-25acf711ec09\">\n",
              "    <div class=\"colab-df-container\">\n",
              "      <div>\n",
              "<style scoped>\n",
              "    .dataframe tbody tr th:only-of-type {\n",
              "        vertical-align: middle;\n",
              "    }\n",
              "\n",
              "    .dataframe tbody tr th {\n",
              "        vertical-align: top;\n",
              "    }\n",
              "\n",
              "    .dataframe thead th {\n",
              "        text-align: right;\n",
              "    }\n",
              "</style>\n",
              "<table border=\"1\" class=\"dataframe\">\n",
              "  <thead>\n",
              "    <tr style=\"text-align: right;\">\n",
              "      <th></th>\n",
              "      <th>CMPLNT_NUM</th>\n",
              "      <th>CMPLNT_FR_DT</th>\n",
              "      <th>CMPLNT_FR_TM</th>\n",
              "      <th>CMPLNT_TO_DT</th>\n",
              "      <th>CMPLNT_TO_TM</th>\n",
              "      <th>RPT_DT</th>\n",
              "      <th>KY_CD</th>\n",
              "      <th>OFNS_DESC</th>\n",
              "      <th>PD_CD</th>\n",
              "      <th>PD_DESC</th>\n",
              "      <th>...</th>\n",
              "      <th>ADDR_PCT_CD</th>\n",
              "      <th>LOC_OF_OCCUR_DESC</th>\n",
              "      <th>PREM_TYP_DESC</th>\n",
              "      <th>PARKS_NM</th>\n",
              "      <th>HADEVELOPT</th>\n",
              "      <th>X_COORD_CD</th>\n",
              "      <th>Y_COORD_CD</th>\n",
              "      <th>Latitude</th>\n",
              "      <th>Longitude</th>\n",
              "      <th>Lat_Lon</th>\n",
              "    </tr>\n",
              "  </thead>\n",
              "  <tbody>\n",
              "    <tr>\n",
              "      <th>760094</th>\n",
              "      <td>742171909</td>\n",
              "      <td>6/6/2014</td>\n",
              "      <td>11:00:00</td>\n",
              "      <td>6/6/2014</td>\n",
              "      <td>11:20:00</td>\n",
              "      <td>6/9/2014</td>\n",
              "      <td>359</td>\n",
              "      <td>OFFENSES AGAINST PUBLIC ADMINI</td>\n",
              "      <td>749.0</td>\n",
              "      <td>VIOLATION OF ORDER OF PROTECTI</td>\n",
              "      <td>...</td>\n",
              "      <td>103.0</td>\n",
              "      <td>FRONT OF</td>\n",
              "      <td>PUBLIC BUILDING</td>\n",
              "      <td>NaN</td>\n",
              "      <td>NaN</td>\n",
              "      <td>1038771.0</td>\n",
              "      <td>195254.0</td>\n",
              "      <td>40.702444</td>\n",
              "      <td>-73.803367</td>\n",
              "      <td>(40.702444153, -73.803366663)</td>\n",
              "    </tr>\n",
              "    <tr>\n",
              "      <th>77828</th>\n",
              "      <td>438040109</td>\n",
              "      <td>10/31/2015</td>\n",
              "      <td>11:00:00</td>\n",
              "      <td>10/31/2015</td>\n",
              "      <td>11:05:00</td>\n",
              "      <td>11/1/2015</td>\n",
              "      <td>106</td>\n",
              "      <td>FELONY ASSAULT</td>\n",
              "      <td>105.0</td>\n",
              "      <td>STRANGULATION 1ST</td>\n",
              "      <td>...</td>\n",
              "      <td>103.0</td>\n",
              "      <td>INSIDE</td>\n",
              "      <td>STREET</td>\n",
              "      <td>NaN</td>\n",
              "      <td>NaN</td>\n",
              "      <td>1041453.0</td>\n",
              "      <td>197361.0</td>\n",
              "      <td>40.708210</td>\n",
              "      <td>-73.793676</td>\n",
              "      <td>(40.708210426, -73.79367593)</td>\n",
              "    </tr>\n",
              "    <tr>\n",
              "      <th>387653</th>\n",
              "      <td>142492677</td>\n",
              "      <td>3/20/2015</td>\n",
              "      <td>22:30:00</td>\n",
              "      <td>3/20/2015</td>\n",
              "      <td>22:35:00</td>\n",
              "      <td>3/21/2015</td>\n",
              "      <td>113</td>\n",
              "      <td>FORGERY</td>\n",
              "      <td>729.0</td>\n",
              "      <td>FORGERY,ETC.,UNCLASSIFIED-FELO</td>\n",
              "      <td>...</td>\n",
              "      <td>33.0</td>\n",
              "      <td>NaN</td>\n",
              "      <td>STREET</td>\n",
              "      <td>NaN</td>\n",
              "      <td>NaN</td>\n",
              "      <td>1002974.0</td>\n",
              "      <td>247561.0</td>\n",
              "      <td>40.846161</td>\n",
              "      <td>-73.932326</td>\n",
              "      <td>(40.846161249, -73.932325855)</td>\n",
              "    </tr>\n",
              "    <tr>\n",
              "      <th>978580</th>\n",
              "      <td>227346990</td>\n",
              "      <td>12/24/2013</td>\n",
              "      <td>11:45:00</td>\n",
              "      <td>12/24/2013</td>\n",
              "      <td>12:20:00</td>\n",
              "      <td>12/24/2013</td>\n",
              "      <td>578</td>\n",
              "      <td>HARRASSMENT 2</td>\n",
              "      <td>638.0</td>\n",
              "      <td>HARASSMENT,SUBD 3,4,5</td>\n",
              "      <td>...</td>\n",
              "      <td>79.0</td>\n",
              "      <td>INSIDE</td>\n",
              "      <td>RESIDENCE - PUBLIC HOUSING</td>\n",
              "      <td>NaN</td>\n",
              "      <td>MARCY</td>\n",
              "      <td>997366.0</td>\n",
              "      <td>192877.0</td>\n",
              "      <td>40.696078</td>\n",
              "      <td>-73.952702</td>\n",
              "      <td>(40.696078078, -73.952701992)</td>\n",
              "    </tr>\n",
              "  </tbody>\n",
              "</table>\n",
              "<p>4 rows × 24 columns</p>\n",
              "</div>\n",
              "      <button class=\"colab-df-convert\" onclick=\"convertToInteractive('df-15b51dc9-65ed-4372-9229-25acf711ec09')\"\n",
              "              title=\"Convert this dataframe to an interactive table.\"\n",
              "              style=\"display:none;\">\n",
              "        \n",
              "  <svg xmlns=\"http://www.w3.org/2000/svg\" height=\"24px\"viewBox=\"0 0 24 24\"\n",
              "       width=\"24px\">\n",
              "    <path d=\"M0 0h24v24H0V0z\" fill=\"none\"/>\n",
              "    <path d=\"M18.56 5.44l.94 2.06.94-2.06 2.06-.94-2.06-.94-.94-2.06-.94 2.06-2.06.94zm-11 1L8.5 8.5l.94-2.06 2.06-.94-2.06-.94L8.5 2.5l-.94 2.06-2.06.94zm10 10l.94 2.06.94-2.06 2.06-.94-2.06-.94-.94-2.06-.94 2.06-2.06.94z\"/><path d=\"M17.41 7.96l-1.37-1.37c-.4-.4-.92-.59-1.43-.59-.52 0-1.04.2-1.43.59L10.3 9.45l-7.72 7.72c-.78.78-.78 2.05 0 2.83L4 21.41c.39.39.9.59 1.41.59.51 0 1.02-.2 1.41-.59l7.78-7.78 2.81-2.81c.8-.78.8-2.07 0-2.86zM5.41 20L4 18.59l7.72-7.72 1.47 1.35L5.41 20z\"/>\n",
              "  </svg>\n",
              "      </button>\n",
              "      \n",
              "  <style>\n",
              "    .colab-df-container {\n",
              "      display:flex;\n",
              "      flex-wrap:wrap;\n",
              "      gap: 12px;\n",
              "    }\n",
              "\n",
              "    .colab-df-convert {\n",
              "      background-color: #E8F0FE;\n",
              "      border: none;\n",
              "      border-radius: 50%;\n",
              "      cursor: pointer;\n",
              "      display: none;\n",
              "      fill: #1967D2;\n",
              "      height: 32px;\n",
              "      padding: 0 0 0 0;\n",
              "      width: 32px;\n",
              "    }\n",
              "\n",
              "    .colab-df-convert:hover {\n",
              "      background-color: #E2EBFA;\n",
              "      box-shadow: 0px 1px 2px rgba(60, 64, 67, 0.3), 0px 1px 3px 1px rgba(60, 64, 67, 0.15);\n",
              "      fill: #174EA6;\n",
              "    }\n",
              "\n",
              "    [theme=dark] .colab-df-convert {\n",
              "      background-color: #3B4455;\n",
              "      fill: #D2E3FC;\n",
              "    }\n",
              "\n",
              "    [theme=dark] .colab-df-convert:hover {\n",
              "      background-color: #434B5C;\n",
              "      box-shadow: 0px 1px 3px 1px rgba(0, 0, 0, 0.15);\n",
              "      filter: drop-shadow(0px 1px 2px rgba(0, 0, 0, 0.3));\n",
              "      fill: #FFFFFF;\n",
              "    }\n",
              "  </style>\n",
              "\n",
              "      <script>\n",
              "        const buttonEl =\n",
              "          document.querySelector('#df-15b51dc9-65ed-4372-9229-25acf711ec09 button.colab-df-convert');\n",
              "        buttonEl.style.display =\n",
              "          google.colab.kernel.accessAllowed ? 'block' : 'none';\n",
              "\n",
              "        async function convertToInteractive(key) {\n",
              "          const element = document.querySelector('#df-15b51dc9-65ed-4372-9229-25acf711ec09');\n",
              "          const dataTable =\n",
              "            await google.colab.kernel.invokeFunction('convertToInteractive',\n",
              "                                                     [key], {});\n",
              "          if (!dataTable) return;\n",
              "\n",
              "          const docLinkHtml = 'Like what you see? Visit the ' +\n",
              "            '<a target=\"_blank\" href=https://colab.research.google.com/notebooks/data_table.ipynb>data table notebook</a>'\n",
              "            + ' to learn more about interactive tables.';\n",
              "          element.innerHTML = '';\n",
              "          dataTable['output_type'] = 'display_data';\n",
              "          await google.colab.output.renderOutput(dataTable, element);\n",
              "          const docLink = document.createElement('div');\n",
              "          docLink.innerHTML = docLinkHtml;\n",
              "          element.appendChild(docLink);\n",
              "        }\n",
              "      </script>\n",
              "    </div>\n",
              "  </div>\n",
              "  "
            ]
          },
          "metadata": {},
          "execution_count": 55
        }
      ],
      "source": [
        "df1.head(4)"
      ]
    },
    {
      "cell_type": "code",
      "execution_count": null,
      "metadata": {
        "id": "1Hv_etH6hLTr"
      },
      "outputs": [],
      "source": [
        "#residencecount, othercount, financecount, foodbevcount, tranportcount, retialcount, worshipcount, healthcount, pubcount = makeCategories(df1)"
      ]
    },
    {
      "cell_type": "code",
      "execution_count": null,
      "metadata": {
        "id": "7Fk6cp3Q4Wak"
      },
      "outputs": [],
      "source": [
        "# #Assign zipcodes to each row\n",
        "\n",
        "# import geopy\n",
        "# from geopy.point import Point\n",
        "\n",
        "# def get_zipcode(df5, geolocator, Latitude, Longitude):\n",
        "#   zipcode = 99999\n",
        "#   try: \n",
        "#     # location = geolocator.reverse(Point(df1[\"Latitude\"], df1[\"Longitude\"]))\n",
        "#     location = geolocator.reverse(Point(df5[\"Latitude\"], df5[\"Longitude\"]))\n",
        "#     zipcode = location.raw['address']['postcode']\n",
        "#     zipcode = int(zipcode)\n",
        "#   except:\n",
        "#     pass\n",
        "#   return zipcode\n",
        "\n",
        "# geolocator = geopy.Nominatim(user_agent='AI-application')\n",
        "# df1['Zipcodes'] = df1.apply(get_zipcode, axis=1, geolocator=geolocator, Latitude=df1[\"Latitude\"], Longitude=df1[\"Longitude\"])\n"
      ]
    },
    {
      "cell_type": "code",
      "execution_count": null,
      "metadata": {
        "id": "Lh83y84zCasN"
      },
      "outputs": [],
      "source": [
        "# from multiprocessing import Process\n",
        "# p1 = Process(target=get_zipcode, args=(df5,))\n",
        "# df1.head()"
      ]
    },
    {
      "cell_type": "markdown",
      "metadata": {
        "id": "yiRyutJAcGrs"
      },
      "source": [
        "HYPOTHESIS: Segregate Burrows based on type of crime. "
      ]
    },
    {
      "cell_type": "code",
      "execution_count": null,
      "metadata": {
        "colab": {
          "base_uri": "https://localhost:8080/",
          "height": 238
        },
        "id": "pM78VVk-91ap",
        "outputId": "4fca12d5-15d0-48e2-aab3-2d4c0ae7751d"
      },
      "outputs": [
        {
          "output_type": "execute_result",
          "data": {
            "text/plain": [
              "            BORO_NM       2010       2020\n",
              "0         NYC TOTAL  8,242,624  8,550,971\n",
              "1             BRONX  1,385,108  1,446,788\n",
              "2          BROOKLYN  2,552,911  2,648,452\n",
              "3         MANHATTAN  1,585,873  1,638,281\n",
              "4            QUEENS  2,250,002  2,330,295\n",
              "5     STATEN ISLAND    468,730    487,155"
            ],
            "text/html": [
              "\n",
              "  <div id=\"df-ad9f464f-add7-4992-85cc-464e303678db\">\n",
              "    <div class=\"colab-df-container\">\n",
              "      <div>\n",
              "<style scoped>\n",
              "    .dataframe tbody tr th:only-of-type {\n",
              "        vertical-align: middle;\n",
              "    }\n",
              "\n",
              "    .dataframe tbody tr th {\n",
              "        vertical-align: top;\n",
              "    }\n",
              "\n",
              "    .dataframe thead th {\n",
              "        text-align: right;\n",
              "    }\n",
              "</style>\n",
              "<table border=\"1\" class=\"dataframe\">\n",
              "  <thead>\n",
              "    <tr style=\"text-align: right;\">\n",
              "      <th></th>\n",
              "      <th>BORO_NM</th>\n",
              "      <th>2010</th>\n",
              "      <th>2020</th>\n",
              "    </tr>\n",
              "  </thead>\n",
              "  <tbody>\n",
              "    <tr>\n",
              "      <th>0</th>\n",
              "      <td>NYC TOTAL</td>\n",
              "      <td>8,242,624</td>\n",
              "      <td>8,550,971</td>\n",
              "    </tr>\n",
              "    <tr>\n",
              "      <th>1</th>\n",
              "      <td>BRONX</td>\n",
              "      <td>1,385,108</td>\n",
              "      <td>1,446,788</td>\n",
              "    </tr>\n",
              "    <tr>\n",
              "      <th>2</th>\n",
              "      <td>BROOKLYN</td>\n",
              "      <td>2,552,911</td>\n",
              "      <td>2,648,452</td>\n",
              "    </tr>\n",
              "    <tr>\n",
              "      <th>3</th>\n",
              "      <td>MANHATTAN</td>\n",
              "      <td>1,585,873</td>\n",
              "      <td>1,638,281</td>\n",
              "    </tr>\n",
              "    <tr>\n",
              "      <th>4</th>\n",
              "      <td>QUEENS</td>\n",
              "      <td>2,250,002</td>\n",
              "      <td>2,330,295</td>\n",
              "    </tr>\n",
              "    <tr>\n",
              "      <th>5</th>\n",
              "      <td>STATEN ISLAND</td>\n",
              "      <td>468,730</td>\n",
              "      <td>487,155</td>\n",
              "    </tr>\n",
              "  </tbody>\n",
              "</table>\n",
              "</div>\n",
              "      <button class=\"colab-df-convert\" onclick=\"convertToInteractive('df-ad9f464f-add7-4992-85cc-464e303678db')\"\n",
              "              title=\"Convert this dataframe to an interactive table.\"\n",
              "              style=\"display:none;\">\n",
              "        \n",
              "  <svg xmlns=\"http://www.w3.org/2000/svg\" height=\"24px\"viewBox=\"0 0 24 24\"\n",
              "       width=\"24px\">\n",
              "    <path d=\"M0 0h24v24H0V0z\" fill=\"none\"/>\n",
              "    <path d=\"M18.56 5.44l.94 2.06.94-2.06 2.06-.94-2.06-.94-.94-2.06-.94 2.06-2.06.94zm-11 1L8.5 8.5l.94-2.06 2.06-.94-2.06-.94L8.5 2.5l-.94 2.06-2.06.94zm10 10l.94 2.06.94-2.06 2.06-.94-2.06-.94-.94-2.06-.94 2.06-2.06.94z\"/><path d=\"M17.41 7.96l-1.37-1.37c-.4-.4-.92-.59-1.43-.59-.52 0-1.04.2-1.43.59L10.3 9.45l-7.72 7.72c-.78.78-.78 2.05 0 2.83L4 21.41c.39.39.9.59 1.41.59.51 0 1.02-.2 1.41-.59l7.78-7.78 2.81-2.81c.8-.78.8-2.07 0-2.86zM5.41 20L4 18.59l7.72-7.72 1.47 1.35L5.41 20z\"/>\n",
              "  </svg>\n",
              "      </button>\n",
              "      \n",
              "  <style>\n",
              "    .colab-df-container {\n",
              "      display:flex;\n",
              "      flex-wrap:wrap;\n",
              "      gap: 12px;\n",
              "    }\n",
              "\n",
              "    .colab-df-convert {\n",
              "      background-color: #E8F0FE;\n",
              "      border: none;\n",
              "      border-radius: 50%;\n",
              "      cursor: pointer;\n",
              "      display: none;\n",
              "      fill: #1967D2;\n",
              "      height: 32px;\n",
              "      padding: 0 0 0 0;\n",
              "      width: 32px;\n",
              "    }\n",
              "\n",
              "    .colab-df-convert:hover {\n",
              "      background-color: #E2EBFA;\n",
              "      box-shadow: 0px 1px 2px rgba(60, 64, 67, 0.3), 0px 1px 3px 1px rgba(60, 64, 67, 0.15);\n",
              "      fill: #174EA6;\n",
              "    }\n",
              "\n",
              "    [theme=dark] .colab-df-convert {\n",
              "      background-color: #3B4455;\n",
              "      fill: #D2E3FC;\n",
              "    }\n",
              "\n",
              "    [theme=dark] .colab-df-convert:hover {\n",
              "      background-color: #434B5C;\n",
              "      box-shadow: 0px 1px 3px 1px rgba(0, 0, 0, 0.15);\n",
              "      filter: drop-shadow(0px 1px 2px rgba(0, 0, 0, 0.3));\n",
              "      fill: #FFFFFF;\n",
              "    }\n",
              "  </style>\n",
              "\n",
              "      <script>\n",
              "        const buttonEl =\n",
              "          document.querySelector('#df-ad9f464f-add7-4992-85cc-464e303678db button.colab-df-convert');\n",
              "        buttonEl.style.display =\n",
              "          google.colab.kernel.accessAllowed ? 'block' : 'none';\n",
              "\n",
              "        async function convertToInteractive(key) {\n",
              "          const element = document.querySelector('#df-ad9f464f-add7-4992-85cc-464e303678db');\n",
              "          const dataTable =\n",
              "            await google.colab.kernel.invokeFunction('convertToInteractive',\n",
              "                                                     [key], {});\n",
              "          if (!dataTable) return;\n",
              "\n",
              "          const docLinkHtml = 'Like what you see? Visit the ' +\n",
              "            '<a target=\"_blank\" href=https://colab.research.google.com/notebooks/data_table.ipynb>data table notebook</a>'\n",
              "            + ' to learn more about interactive tables.';\n",
              "          element.innerHTML = '';\n",
              "          dataTable['output_type'] = 'display_data';\n",
              "          await google.colab.output.renderOutput(dataTable, element);\n",
              "          const docLink = document.createElement('div');\n",
              "          docLink.innerHTML = docLinkHtml;\n",
              "          element.appendChild(docLink);\n",
              "        }\n",
              "      </script>\n",
              "    </div>\n",
              "  </div>\n",
              "  "
            ]
          },
          "metadata": {},
          "execution_count": 59
        }
      ],
      "source": [
        "# Pop Size\n",
        "feature_1 = df3[['Borough','2010','2020']]\n",
        "feature_1 = feature_1.apply(lambda x: x.str.upper() if x.dtype == \"object\" else x)  \n",
        "feature_1.rename(columns = {'Borough':'BORO_NM'}, inplace = True)\n",
        "feature_1\n"
      ]
    },
    {
      "cell_type": "code",
      "execution_count": null,
      "metadata": {
        "id": "I00uct8snoa0"
      },
      "outputs": [],
      "source": [
        "# #df1 = df1.dropna()\n",
        "# #df1.head(100)\n",
        "# null_columns=df1.columns[df1.isnull().any()]\n",
        "# df1[null_columns].isnull().sum()\n",
        "# df1.drop(329156, inplace=True)\n",
        "# print(df1[df1['ADDR_PCT_CD'].isnull()][null_columns].head())"
      ]
    },
    {
      "cell_type": "code",
      "execution_count": null,
      "metadata": {
        "id": "OIPfgbYa9vwS",
        "colab": {
          "base_uri": "https://localhost:8080/"
        },
        "outputId": "82a0b782-823f-4263-da07-92ad572818b7"
      },
      "outputs": [
        {
          "output_type": "execute_result",
          "data": {
            "text/plain": [
              "array([103.,  33.,  79.,  76.,  43.,  68.,  60.,  10.,  70., 120., 114.,\n",
              "        25., 121.,   9.,  73.,  94.,  14.,  81.,  47., 105., 122., 113.,\n",
              "         5.,  23., 108.,  77., 100.,  28.,  48.,  75., 111.,  44., 109.,\n",
              "        45.,  13., 107.,  49.,  62.,  18.,  61.,  63.,  46.,   7.,   6.,\n",
              "        34., 110.,  88.,  19.,  69.,  84.,  72.,  17.,  67., 115.,  40.,\n",
              "       102.,  66.,  41.,  71.,  78.,  83.,  52.,  30.,   1., 112.,  90.,\n",
              "       123.,  42.,  32., 101., 104.,  50., 106.,  22.,  20.,  24.,  26.])"
            ]
          },
          "metadata": {},
          "execution_count": 61
        }
      ],
      "source": [
        "df1['ADDR_PCT_CD'].unique()\n",
        "# df1['ADDR_PCT_CD']"
      ]
    },
    {
      "cell_type": "code",
      "execution_count": null,
      "metadata": {
        "id": "QbWbc0j889T7",
        "colab": {
          "base_uri": "https://localhost:8080/"
        },
        "outputId": "a63f42ca-0f99-4fc8-bddd-5949f00206bc"
      },
      "outputs": [
        {
          "output_type": "stream",
          "name": "stderr",
          "text": [
            "/usr/local/lib/python3.7/dist-packages/ipykernel_launcher.py:3: SettingWithCopyWarning: \n",
            "A value is trying to be set on a copy of a slice from a DataFrame.\n",
            "Try using .loc[row_indexer,col_indexer] = value instead\n",
            "\n",
            "See the caveats in the documentation: https://pandas.pydata.org/pandas-docs/stable/user_guide/indexing.html#returning-a-view-versus-a-copy\n",
            "  This is separate from the ipykernel package so we can avoid doing imports until\n"
          ]
        }
      ],
      "source": [
        "# Time of Day\n",
        "feature_set = df1[['CMPLNT_FR_TM','BORO_NM','ADDR_PCT_CD']]\n",
        "feature_set['Precinct Num'] = df1['ADDR_PCT_CD']\n",
        "feature_set.set_index('ADDR_PCT_CD', inplace=True)\n",
        "\n"
      ]
    },
    {
      "cell_type": "code",
      "execution_count": null,
      "metadata": {
        "id": "VW9JYzwk0TFm"
      },
      "outputs": [],
      "source": [
        "bronx_ = 1385108\n",
        "brook_ = 2552911\n",
        "manha_ = 1585873\n",
        "queen_ = 2250002\n",
        "state_ = 468730"
      ]
    },
    {
      "cell_type": "code",
      "execution_count": null,
      "metadata": {
        "id": "29IUAZqFEMuO",
        "colab": {
          "base_uri": "https://localhost:8080/"
        },
        "outputId": "9b6bd219-3136-42c4-ebe8-304186e0a949"
      },
      "outputs": [
        {
          "output_type": "stream",
          "name": "stderr",
          "text": [
            "/usr/local/lib/python3.7/dist-packages/ipykernel_launcher.py:1: SettingWithCopyWarning: \n",
            "A value is trying to be set on a copy of a slice from a DataFrame.\n",
            "Try using .loc[row_indexer,col_indexer] = value instead\n",
            "\n",
            "See the caveats in the documentation: https://pandas.pydata.org/pandas-docs/stable/user_guide/indexing.html#returning-a-view-versus-a-copy\n",
            "  \"\"\"Entry point for launching an IPython kernel.\n",
            "/usr/local/lib/python3.7/dist-packages/ipykernel_launcher.py:2: SettingWithCopyWarning: \n",
            "A value is trying to be set on a copy of a slice from a DataFrame.\n",
            "Try using .loc[row_indexer,col_indexer] = value instead\n",
            "\n",
            "See the caveats in the documentation: https://pandas.pydata.org/pandas-docs/stable/user_guide/indexing.html#returning-a-view-versus-a-copy\n",
            "  \n",
            "/usr/local/lib/python3.7/dist-packages/pandas/core/indexing.py:1817: SettingWithCopyWarning: \n",
            "A value is trying to be set on a copy of a slice from a DataFrame.\n",
            "Try using .loc[row_indexer,col_indexer] = value instead\n",
            "\n",
            "See the caveats in the documentation: https://pandas.pydata.org/pandas-docs/stable/user_guide/indexing.html#returning-a-view-versus-a-copy\n",
            "  self._setitem_single_column(loc, value, pi)\n"
          ]
        }
      ],
      "source": [
        "feature_set['Count'] = df1.groupby(by='ADDR_PCT_CD')['CMPLNT_NUM'].count()\n",
        "feature_set['Pop'] = 0\n",
        "feature_set.loc[feature_set[\"BORO_NM\"] == \"MANHATTAN\", \"Pop\"] = manha_\n",
        "feature_set.loc[feature_set[\"BORO_NM\"] == \"BRONX\", \"Pop\"] = bronx_\n",
        "feature_set.loc[feature_set[\"BORO_NM\"] == \"QUEENS\", \"Pop\"] = queen_\n",
        "feature_set.loc[feature_set[\"BORO_NM\"] == \"STATEN ISLAND\", \"Pop\"] = state_\n",
        "feature_set.loc[feature_set[\"BORO_NM\"] == \"BROOKLYN\", \"Pop\"] = brook_\n"
      ]
    },
    {
      "cell_type": "code",
      "execution_count": null,
      "metadata": {
        "id": "31Fh5k2jItXK",
        "colab": {
          "base_uri": "https://localhost:8080/"
        },
        "outputId": "88b5e940-bed9-497a-de73-1d1e4a93f34b"
      },
      "outputs": [
        {
          "output_type": "stream",
          "name": "stdout",
          "text": [
            "minimum crime count =>  1\n",
            "max crime count =>  36\n",
            "mean crime count =>  15.978\n"
          ]
        }
      ],
      "source": [
        "print(\"minimum crime count => \", feature_set['Count'].min())\n",
        "print(\"max crime count => \", feature_set['Count'].max())\n",
        "print(\"mean crime count => \", feature_set['Count'].mean())"
      ]
    },
    {
      "cell_type": "code",
      "execution_count": null,
      "metadata": {
        "id": "SwBoRoZm5dB4",
        "colab": {
          "base_uri": "https://localhost:8080/",
          "height": 550
        },
        "outputId": "7d905a11-a181-46b5-b2e3-5727f44a4700"
      },
      "outputs": [
        {
          "output_type": "stream",
          "name": "stderr",
          "text": [
            "/usr/local/lib/python3.7/dist-packages/pandas/core/indexing.py:1684: SettingWithCopyWarning: \n",
            "A value is trying to be set on a copy of a slice from a DataFrame.\n",
            "Try using .loc[row_indexer,col_indexer] = value instead\n",
            "\n",
            "See the caveats in the documentation: https://pandas.pydata.org/pandas-docs/stable/user_guide/indexing.html#returning-a-view-versus-a-copy\n",
            "  self.obj[key] = infer_fill_value(value)\n",
            "/usr/local/lib/python3.7/dist-packages/pandas/core/indexing.py:1817: SettingWithCopyWarning: \n",
            "A value is trying to be set on a copy of a slice from a DataFrame.\n",
            "Try using .loc[row_indexer,col_indexer] = value instead\n",
            "\n",
            "See the caveats in the documentation: https://pandas.pydata.org/pandas-docs/stable/user_guide/indexing.html#returning-a-view-versus-a-copy\n",
            "  self._setitem_single_column(loc, value, pi)\n",
            "/usr/local/lib/python3.7/dist-packages/pandas/core/frame.py:3641: SettingWithCopyWarning: \n",
            "A value is trying to be set on a copy of a slice from a DataFrame.\n",
            "Try using .loc[row_indexer,col_indexer] = value instead\n",
            "\n",
            "See the caveats in the documentation: https://pandas.pydata.org/pandas-docs/stable/user_guide/indexing.html#returning-a-view-versus-a-copy\n",
            "  self[k1] = value[k2]\n"
          ]
        },
        {
          "output_type": "execute_result",
          "data": {
            "text/plain": [
              "            CMPLNT_FR_TM    BORO_NM  Precinct Num  Count      Pop   Class  \\\n",
              "ADDR_PCT_CD                                                                 \n",
              "103.0           11:00:00     QUEENS         103.0     22  2250002  medium   \n",
              "103.0           11:00:00     QUEENS         103.0     22  2250002  medium   \n",
              "33.0            22:30:00  MANHATTAN          33.0     13  1585873  medium   \n",
              "79.0            11:45:00   BROOKLYN          79.0     18  2552911  medium   \n",
              "76.0            16:43:00   BROOKLYN          76.0      5  2552911     low   \n",
              "\n",
              "            hour minutes seconds  \n",
              "ADDR_PCT_CD                       \n",
              "103.0         11      00      00  \n",
              "103.0         11      00      00  \n",
              "33.0          22      30      00  \n",
              "79.0          11      45      00  \n",
              "76.0          16      43      00  "
            ],
            "text/html": [
              "\n",
              "  <div id=\"df-1c805e3a-7c68-4cdb-9eee-35bb870c4394\">\n",
              "    <div class=\"colab-df-container\">\n",
              "      <div>\n",
              "<style scoped>\n",
              "    .dataframe tbody tr th:only-of-type {\n",
              "        vertical-align: middle;\n",
              "    }\n",
              "\n",
              "    .dataframe tbody tr th {\n",
              "        vertical-align: top;\n",
              "    }\n",
              "\n",
              "    .dataframe thead th {\n",
              "        text-align: right;\n",
              "    }\n",
              "</style>\n",
              "<table border=\"1\" class=\"dataframe\">\n",
              "  <thead>\n",
              "    <tr style=\"text-align: right;\">\n",
              "      <th></th>\n",
              "      <th>CMPLNT_FR_TM</th>\n",
              "      <th>BORO_NM</th>\n",
              "      <th>Precinct Num</th>\n",
              "      <th>Count</th>\n",
              "      <th>Pop</th>\n",
              "      <th>Class</th>\n",
              "      <th>hour</th>\n",
              "      <th>minutes</th>\n",
              "      <th>seconds</th>\n",
              "    </tr>\n",
              "    <tr>\n",
              "      <th>ADDR_PCT_CD</th>\n",
              "      <th></th>\n",
              "      <th></th>\n",
              "      <th></th>\n",
              "      <th></th>\n",
              "      <th></th>\n",
              "      <th></th>\n",
              "      <th></th>\n",
              "      <th></th>\n",
              "      <th></th>\n",
              "    </tr>\n",
              "  </thead>\n",
              "  <tbody>\n",
              "    <tr>\n",
              "      <th>103.0</th>\n",
              "      <td>11:00:00</td>\n",
              "      <td>QUEENS</td>\n",
              "      <td>103.0</td>\n",
              "      <td>22</td>\n",
              "      <td>2250002</td>\n",
              "      <td>medium</td>\n",
              "      <td>11</td>\n",
              "      <td>00</td>\n",
              "      <td>00</td>\n",
              "    </tr>\n",
              "    <tr>\n",
              "      <th>103.0</th>\n",
              "      <td>11:00:00</td>\n",
              "      <td>QUEENS</td>\n",
              "      <td>103.0</td>\n",
              "      <td>22</td>\n",
              "      <td>2250002</td>\n",
              "      <td>medium</td>\n",
              "      <td>11</td>\n",
              "      <td>00</td>\n",
              "      <td>00</td>\n",
              "    </tr>\n",
              "    <tr>\n",
              "      <th>33.0</th>\n",
              "      <td>22:30:00</td>\n",
              "      <td>MANHATTAN</td>\n",
              "      <td>33.0</td>\n",
              "      <td>13</td>\n",
              "      <td>1585873</td>\n",
              "      <td>medium</td>\n",
              "      <td>22</td>\n",
              "      <td>30</td>\n",
              "      <td>00</td>\n",
              "    </tr>\n",
              "    <tr>\n",
              "      <th>79.0</th>\n",
              "      <td>11:45:00</td>\n",
              "      <td>BROOKLYN</td>\n",
              "      <td>79.0</td>\n",
              "      <td>18</td>\n",
              "      <td>2552911</td>\n",
              "      <td>medium</td>\n",
              "      <td>11</td>\n",
              "      <td>45</td>\n",
              "      <td>00</td>\n",
              "    </tr>\n",
              "    <tr>\n",
              "      <th>76.0</th>\n",
              "      <td>16:43:00</td>\n",
              "      <td>BROOKLYN</td>\n",
              "      <td>76.0</td>\n",
              "      <td>5</td>\n",
              "      <td>2552911</td>\n",
              "      <td>low</td>\n",
              "      <td>16</td>\n",
              "      <td>43</td>\n",
              "      <td>00</td>\n",
              "    </tr>\n",
              "  </tbody>\n",
              "</table>\n",
              "</div>\n",
              "      <button class=\"colab-df-convert\" onclick=\"convertToInteractive('df-1c805e3a-7c68-4cdb-9eee-35bb870c4394')\"\n",
              "              title=\"Convert this dataframe to an interactive table.\"\n",
              "              style=\"display:none;\">\n",
              "        \n",
              "  <svg xmlns=\"http://www.w3.org/2000/svg\" height=\"24px\"viewBox=\"0 0 24 24\"\n",
              "       width=\"24px\">\n",
              "    <path d=\"M0 0h24v24H0V0z\" fill=\"none\"/>\n",
              "    <path d=\"M18.56 5.44l.94 2.06.94-2.06 2.06-.94-2.06-.94-.94-2.06-.94 2.06-2.06.94zm-11 1L8.5 8.5l.94-2.06 2.06-.94-2.06-.94L8.5 2.5l-.94 2.06-2.06.94zm10 10l.94 2.06.94-2.06 2.06-.94-2.06-.94-.94-2.06-.94 2.06-2.06.94z\"/><path d=\"M17.41 7.96l-1.37-1.37c-.4-.4-.92-.59-1.43-.59-.52 0-1.04.2-1.43.59L10.3 9.45l-7.72 7.72c-.78.78-.78 2.05 0 2.83L4 21.41c.39.39.9.59 1.41.59.51 0 1.02-.2 1.41-.59l7.78-7.78 2.81-2.81c.8-.78.8-2.07 0-2.86zM5.41 20L4 18.59l7.72-7.72 1.47 1.35L5.41 20z\"/>\n",
              "  </svg>\n",
              "      </button>\n",
              "      \n",
              "  <style>\n",
              "    .colab-df-container {\n",
              "      display:flex;\n",
              "      flex-wrap:wrap;\n",
              "      gap: 12px;\n",
              "    }\n",
              "\n",
              "    .colab-df-convert {\n",
              "      background-color: #E8F0FE;\n",
              "      border: none;\n",
              "      border-radius: 50%;\n",
              "      cursor: pointer;\n",
              "      display: none;\n",
              "      fill: #1967D2;\n",
              "      height: 32px;\n",
              "      padding: 0 0 0 0;\n",
              "      width: 32px;\n",
              "    }\n",
              "\n",
              "    .colab-df-convert:hover {\n",
              "      background-color: #E2EBFA;\n",
              "      box-shadow: 0px 1px 2px rgba(60, 64, 67, 0.3), 0px 1px 3px 1px rgba(60, 64, 67, 0.15);\n",
              "      fill: #174EA6;\n",
              "    }\n",
              "\n",
              "    [theme=dark] .colab-df-convert {\n",
              "      background-color: #3B4455;\n",
              "      fill: #D2E3FC;\n",
              "    }\n",
              "\n",
              "    [theme=dark] .colab-df-convert:hover {\n",
              "      background-color: #434B5C;\n",
              "      box-shadow: 0px 1px 3px 1px rgba(0, 0, 0, 0.15);\n",
              "      filter: drop-shadow(0px 1px 2px rgba(0, 0, 0, 0.3));\n",
              "      fill: #FFFFFF;\n",
              "    }\n",
              "  </style>\n",
              "\n",
              "      <script>\n",
              "        const buttonEl =\n",
              "          document.querySelector('#df-1c805e3a-7c68-4cdb-9eee-35bb870c4394 button.colab-df-convert');\n",
              "        buttonEl.style.display =\n",
              "          google.colab.kernel.accessAllowed ? 'block' : 'none';\n",
              "\n",
              "        async function convertToInteractive(key) {\n",
              "          const element = document.querySelector('#df-1c805e3a-7c68-4cdb-9eee-35bb870c4394');\n",
              "          const dataTable =\n",
              "            await google.colab.kernel.invokeFunction('convertToInteractive',\n",
              "                                                     [key], {});\n",
              "          if (!dataTable) return;\n",
              "\n",
              "          const docLinkHtml = 'Like what you see? Visit the ' +\n",
              "            '<a target=\"_blank\" href=https://colab.research.google.com/notebooks/data_table.ipynb>data table notebook</a>'\n",
              "            + ' to learn more about interactive tables.';\n",
              "          element.innerHTML = '';\n",
              "          dataTable['output_type'] = 'display_data';\n",
              "          await google.colab.output.renderOutput(dataTable, element);\n",
              "          const docLink = document.createElement('div');\n",
              "          docLink.innerHTML = docLinkHtml;\n",
              "          element.appendChild(docLink);\n",
              "        }\n",
              "      </script>\n",
              "    </div>\n",
              "  </div>\n",
              "  "
            ]
          },
          "metadata": {},
          "execution_count": 66
        }
      ],
      "source": [
        "# Add Class Low Medium, High\n",
        "# if time between 6pm and 4am, and count > 10, then high_crime\n",
        "# if time between 6pm and 4am, and count < 10 but > 5, then medium_crime\n",
        "# if time between 6pm and 4am, and count < 5, then low_crime\n",
        "#\n",
        "#feature_set['Class'] = 0\n",
        "\n",
        "# Change Count everytime you change Sample Size\n",
        "# feature_set.loc[feature_set[\"Count\"] >= 26217, \"Class\"]          = 'high'\n",
        "# feature_set.loc[feature_set[\"Count\"] <= 7570, \"Class\"]           = 'low'\n",
        "# feature_set.loc[feature_set[\"Count\"].between(7571,26216), \"Class\"] = 'med'\n",
        "\n",
        "feature_set.loc[feature_set[\"Count\"] >= 30 , \"Class\"]          = 'high'\n",
        "feature_set.loc[feature_set[\"Count\"] <= 12, \"Class\"]           = 'low'\n",
        "feature_set.loc[feature_set[\"Count\"].between(13,29), \"Class\"] = 'medium'\n",
        "\n",
        "\n",
        "# Split time into hh mm ss\n",
        "feature_set[['hour', 'minutes', 'seconds']] = feature_set['CMPLNT_FR_TM'].str.split(':', expand=True)\n",
        "feature_set.head()"
      ]
    },
    {
      "cell_type": "code",
      "execution_count": null,
      "metadata": {
        "id": "g0euV_6fbdyc"
      },
      "outputs": [],
      "source": [
        "# Drop the Boro Name for now\n",
        "#feature_set.drop(['BORO_NM'], axis=1, inplace=True)\n",
        "\n",
        "# Can we add tags to each data based on location of crime ( Health, residence, Retail)"
      ]
    },
    {
      "cell_type": "code",
      "execution_count": null,
      "metadata": {
        "id": "ynJLYAcvsEyE"
      },
      "outputs": [],
      "source": [
        "# Creating the Main Function/ Calling these Algorithms\n",
        "X = feature_set[['Pop','hour','Count',]]\n",
        "y = feature_set[['Class']]"
      ]
    },
    {
      "cell_type": "code",
      "execution_count": null,
      "metadata": {
        "id": "TuC9lNCXrEoX"
      },
      "outputs": [],
      "source": [
        "#-------------------------------------------------------#\n",
        "# Start Part 2 of the Prject using Keras/scikitlearn\n",
        "\n",
        "# sklearn imports below\n",
        "from sklearn.naive_bayes import GaussianNB\n",
        "# from sklearn.svm import LinearSVC\n",
        "from sklearn.svm import SVC\n",
        "from sklearn.linear_model import LogisticRegression\n",
        "from sklearn.ensemble import RandomForestClassifier\n",
        "from sklearn.model_selection import train_test_split\n",
        "from sklearn.metrics import accuracy_score\n"
      ]
    },
    {
      "cell_type": "code",
      "execution_count": null,
      "metadata": {
        "id": "zHcaTkIRrZIk"
      },
      "outputs": [],
      "source": [
        "# Function to Create \n",
        "def mlSVM(X,y,p): # Ajinkya\n",
        "  svm_prediction = -1\n",
        "  #svcObj = LinearSVC()\n",
        "  svcObj = SVC()\n",
        "  clf = svcObj.fit(X,y)\n",
        "  svm_prediction = svcObj.predict(p)\n",
        "  return svm_prediction\n",
        "\n",
        "def mlRegression(X, y, p): # Nency\n",
        "  # init y_predict\n",
        "  linear_prediction = -1\n",
        "  \n",
        "  regObj = LogisticRegression()\n",
        "  regObj.fit(X, y)\n",
        "  logistic_prediction = regObj.predict(p)\n",
        "  logistic_prediction_score = regObj.score(X,y)\n",
        "\n",
        "  return logistic_prediction,logistic_prediction_score\n",
        "\n",
        "def mlRandomForest(X, y, p): # Hamza\n",
        "  # init y_predict\n",
        "  rf_prediction = -1\n",
        "\n",
        "  rfObj = RandomForestClassifier()\n",
        "  rfObj.fit(X, y)\n",
        "  rf_prediction = rfObj.predict(p)\n",
        "\n",
        "  return rf_prediction\n",
        "\n",
        "def mlBayes(X, y, p): # Monica\n",
        "  # init y_predict\n",
        "  bayes_prediction = -1\n",
        "\n",
        "  bayesObj = GaussianNB()   # create an instance of the object\n",
        "  bayesObj.fit(X,y)        # fit or train the model\n",
        "  bayes_prediction = bayesObj.predict(p)\n",
        "\n",
        "  return bayes_prediction\n",
        "\n",
        "  \n"
      ]
    },
    {
      "cell_type": "code",
      "execution_count": null,
      "metadata": {
        "id": "L7SrtjHOM1YW",
        "colab": {
          "base_uri": "https://localhost:8080/",
          "height": 455
        },
        "outputId": "a1f24847-4d06-4103-89e1-a06eb052bded"
      },
      "outputs": [
        {
          "output_type": "execute_result",
          "data": {
            "text/plain": [
              "            CMPLNT_FR_TM        BORO_NM  Precinct Num  Count      Pop   Class  \\\n",
              "ADDR_PCT_CD                                                                     \n",
              "103.0           11:00:00         QUEENS         103.0     22  2250002  medium   \n",
              "103.0           11:00:00         QUEENS         103.0     22  2250002  medium   \n",
              "33.0            22:30:00      MANHATTAN          33.0     13  1585873  medium   \n",
              "79.0            11:45:00       BROOKLYN          79.0     18  2552911  medium   \n",
              "76.0            16:43:00       BROOKLYN          76.0      5  2552911     low   \n",
              "...                  ...            ...           ...    ...      ...     ...   \n",
              "49.0             6:35:00          BRONX          49.0     18  1385108  medium   \n",
              "120.0            8:00:00  STATEN ISLAND         120.0     20   468730  medium   \n",
              "63.0            16:00:00       BROOKLYN          63.0     14  2552911  medium   \n",
              "112.0           19:00:00         QUEENS         112.0     10  2250002     low   \n",
              "47.0            23:27:00          BRONX          47.0     23  1385108  medium   \n",
              "\n",
              "            hour minutes seconds  \n",
              "ADDR_PCT_CD                       \n",
              "103.0         11      00      00  \n",
              "103.0         11      00      00  \n",
              "33.0          22      30      00  \n",
              "79.0          11      45      00  \n",
              "76.0          16      43      00  \n",
              "...          ...     ...     ...  \n",
              "49.0           6      35      00  \n",
              "120.0          8      00      00  \n",
              "63.0          16      00      00  \n",
              "112.0         19      00      00  \n",
              "47.0          23      27      00  \n",
              "\n",
              "[1000 rows x 9 columns]"
            ],
            "text/html": [
              "\n",
              "  <div id=\"df-8aa5ed1a-07fa-49d9-9cd2-6761ce4fe950\">\n",
              "    <div class=\"colab-df-container\">\n",
              "      <div>\n",
              "<style scoped>\n",
              "    .dataframe tbody tr th:only-of-type {\n",
              "        vertical-align: middle;\n",
              "    }\n",
              "\n",
              "    .dataframe tbody tr th {\n",
              "        vertical-align: top;\n",
              "    }\n",
              "\n",
              "    .dataframe thead th {\n",
              "        text-align: right;\n",
              "    }\n",
              "</style>\n",
              "<table border=\"1\" class=\"dataframe\">\n",
              "  <thead>\n",
              "    <tr style=\"text-align: right;\">\n",
              "      <th></th>\n",
              "      <th>CMPLNT_FR_TM</th>\n",
              "      <th>BORO_NM</th>\n",
              "      <th>Precinct Num</th>\n",
              "      <th>Count</th>\n",
              "      <th>Pop</th>\n",
              "      <th>Class</th>\n",
              "      <th>hour</th>\n",
              "      <th>minutes</th>\n",
              "      <th>seconds</th>\n",
              "    </tr>\n",
              "    <tr>\n",
              "      <th>ADDR_PCT_CD</th>\n",
              "      <th></th>\n",
              "      <th></th>\n",
              "      <th></th>\n",
              "      <th></th>\n",
              "      <th></th>\n",
              "      <th></th>\n",
              "      <th></th>\n",
              "      <th></th>\n",
              "      <th></th>\n",
              "    </tr>\n",
              "  </thead>\n",
              "  <tbody>\n",
              "    <tr>\n",
              "      <th>103.0</th>\n",
              "      <td>11:00:00</td>\n",
              "      <td>QUEENS</td>\n",
              "      <td>103.0</td>\n",
              "      <td>22</td>\n",
              "      <td>2250002</td>\n",
              "      <td>medium</td>\n",
              "      <td>11</td>\n",
              "      <td>00</td>\n",
              "      <td>00</td>\n",
              "    </tr>\n",
              "    <tr>\n",
              "      <th>103.0</th>\n",
              "      <td>11:00:00</td>\n",
              "      <td>QUEENS</td>\n",
              "      <td>103.0</td>\n",
              "      <td>22</td>\n",
              "      <td>2250002</td>\n",
              "      <td>medium</td>\n",
              "      <td>11</td>\n",
              "      <td>00</td>\n",
              "      <td>00</td>\n",
              "    </tr>\n",
              "    <tr>\n",
              "      <th>33.0</th>\n",
              "      <td>22:30:00</td>\n",
              "      <td>MANHATTAN</td>\n",
              "      <td>33.0</td>\n",
              "      <td>13</td>\n",
              "      <td>1585873</td>\n",
              "      <td>medium</td>\n",
              "      <td>22</td>\n",
              "      <td>30</td>\n",
              "      <td>00</td>\n",
              "    </tr>\n",
              "    <tr>\n",
              "      <th>79.0</th>\n",
              "      <td>11:45:00</td>\n",
              "      <td>BROOKLYN</td>\n",
              "      <td>79.0</td>\n",
              "      <td>18</td>\n",
              "      <td>2552911</td>\n",
              "      <td>medium</td>\n",
              "      <td>11</td>\n",
              "      <td>45</td>\n",
              "      <td>00</td>\n",
              "    </tr>\n",
              "    <tr>\n",
              "      <th>76.0</th>\n",
              "      <td>16:43:00</td>\n",
              "      <td>BROOKLYN</td>\n",
              "      <td>76.0</td>\n",
              "      <td>5</td>\n",
              "      <td>2552911</td>\n",
              "      <td>low</td>\n",
              "      <td>16</td>\n",
              "      <td>43</td>\n",
              "      <td>00</td>\n",
              "    </tr>\n",
              "    <tr>\n",
              "      <th>...</th>\n",
              "      <td>...</td>\n",
              "      <td>...</td>\n",
              "      <td>...</td>\n",
              "      <td>...</td>\n",
              "      <td>...</td>\n",
              "      <td>...</td>\n",
              "      <td>...</td>\n",
              "      <td>...</td>\n",
              "      <td>...</td>\n",
              "    </tr>\n",
              "    <tr>\n",
              "      <th>49.0</th>\n",
              "      <td>6:35:00</td>\n",
              "      <td>BRONX</td>\n",
              "      <td>49.0</td>\n",
              "      <td>18</td>\n",
              "      <td>1385108</td>\n",
              "      <td>medium</td>\n",
              "      <td>6</td>\n",
              "      <td>35</td>\n",
              "      <td>00</td>\n",
              "    </tr>\n",
              "    <tr>\n",
              "      <th>120.0</th>\n",
              "      <td>8:00:00</td>\n",
              "      <td>STATEN ISLAND</td>\n",
              "      <td>120.0</td>\n",
              "      <td>20</td>\n",
              "      <td>468730</td>\n",
              "      <td>medium</td>\n",
              "      <td>8</td>\n",
              "      <td>00</td>\n",
              "      <td>00</td>\n",
              "    </tr>\n",
              "    <tr>\n",
              "      <th>63.0</th>\n",
              "      <td>16:00:00</td>\n",
              "      <td>BROOKLYN</td>\n",
              "      <td>63.0</td>\n",
              "      <td>14</td>\n",
              "      <td>2552911</td>\n",
              "      <td>medium</td>\n",
              "      <td>16</td>\n",
              "      <td>00</td>\n",
              "      <td>00</td>\n",
              "    </tr>\n",
              "    <tr>\n",
              "      <th>112.0</th>\n",
              "      <td>19:00:00</td>\n",
              "      <td>QUEENS</td>\n",
              "      <td>112.0</td>\n",
              "      <td>10</td>\n",
              "      <td>2250002</td>\n",
              "      <td>low</td>\n",
              "      <td>19</td>\n",
              "      <td>00</td>\n",
              "      <td>00</td>\n",
              "    </tr>\n",
              "    <tr>\n",
              "      <th>47.0</th>\n",
              "      <td>23:27:00</td>\n",
              "      <td>BRONX</td>\n",
              "      <td>47.0</td>\n",
              "      <td>23</td>\n",
              "      <td>1385108</td>\n",
              "      <td>medium</td>\n",
              "      <td>23</td>\n",
              "      <td>27</td>\n",
              "      <td>00</td>\n",
              "    </tr>\n",
              "  </tbody>\n",
              "</table>\n",
              "<p>1000 rows × 9 columns</p>\n",
              "</div>\n",
              "      <button class=\"colab-df-convert\" onclick=\"convertToInteractive('df-8aa5ed1a-07fa-49d9-9cd2-6761ce4fe950')\"\n",
              "              title=\"Convert this dataframe to an interactive table.\"\n",
              "              style=\"display:none;\">\n",
              "        \n",
              "  <svg xmlns=\"http://www.w3.org/2000/svg\" height=\"24px\"viewBox=\"0 0 24 24\"\n",
              "       width=\"24px\">\n",
              "    <path d=\"M0 0h24v24H0V0z\" fill=\"none\"/>\n",
              "    <path d=\"M18.56 5.44l.94 2.06.94-2.06 2.06-.94-2.06-.94-.94-2.06-.94 2.06-2.06.94zm-11 1L8.5 8.5l.94-2.06 2.06-.94-2.06-.94L8.5 2.5l-.94 2.06-2.06.94zm10 10l.94 2.06.94-2.06 2.06-.94-2.06-.94-.94-2.06-.94 2.06-2.06.94z\"/><path d=\"M17.41 7.96l-1.37-1.37c-.4-.4-.92-.59-1.43-.59-.52 0-1.04.2-1.43.59L10.3 9.45l-7.72 7.72c-.78.78-.78 2.05 0 2.83L4 21.41c.39.39.9.59 1.41.59.51 0 1.02-.2 1.41-.59l7.78-7.78 2.81-2.81c.8-.78.8-2.07 0-2.86zM5.41 20L4 18.59l7.72-7.72 1.47 1.35L5.41 20z\"/>\n",
              "  </svg>\n",
              "      </button>\n",
              "      \n",
              "  <style>\n",
              "    .colab-df-container {\n",
              "      display:flex;\n",
              "      flex-wrap:wrap;\n",
              "      gap: 12px;\n",
              "    }\n",
              "\n",
              "    .colab-df-convert {\n",
              "      background-color: #E8F0FE;\n",
              "      border: none;\n",
              "      border-radius: 50%;\n",
              "      cursor: pointer;\n",
              "      display: none;\n",
              "      fill: #1967D2;\n",
              "      height: 32px;\n",
              "      padding: 0 0 0 0;\n",
              "      width: 32px;\n",
              "    }\n",
              "\n",
              "    .colab-df-convert:hover {\n",
              "      background-color: #E2EBFA;\n",
              "      box-shadow: 0px 1px 2px rgba(60, 64, 67, 0.3), 0px 1px 3px 1px rgba(60, 64, 67, 0.15);\n",
              "      fill: #174EA6;\n",
              "    }\n",
              "\n",
              "    [theme=dark] .colab-df-convert {\n",
              "      background-color: #3B4455;\n",
              "      fill: #D2E3FC;\n",
              "    }\n",
              "\n",
              "    [theme=dark] .colab-df-convert:hover {\n",
              "      background-color: #434B5C;\n",
              "      box-shadow: 0px 1px 3px 1px rgba(0, 0, 0, 0.15);\n",
              "      filter: drop-shadow(0px 1px 2px rgba(0, 0, 0, 0.3));\n",
              "      fill: #FFFFFF;\n",
              "    }\n",
              "  </style>\n",
              "\n",
              "      <script>\n",
              "        const buttonEl =\n",
              "          document.querySelector('#df-8aa5ed1a-07fa-49d9-9cd2-6761ce4fe950 button.colab-df-convert');\n",
              "        buttonEl.style.display =\n",
              "          google.colab.kernel.accessAllowed ? 'block' : 'none';\n",
              "\n",
              "        async function convertToInteractive(key) {\n",
              "          const element = document.querySelector('#df-8aa5ed1a-07fa-49d9-9cd2-6761ce4fe950');\n",
              "          const dataTable =\n",
              "            await google.colab.kernel.invokeFunction('convertToInteractive',\n",
              "                                                     [key], {});\n",
              "          if (!dataTable) return;\n",
              "\n",
              "          const docLinkHtml = 'Like what you see? Visit the ' +\n",
              "            '<a target=\"_blank\" href=https://colab.research.google.com/notebooks/data_table.ipynb>data table notebook</a>'\n",
              "            + ' to learn more about interactive tables.';\n",
              "          element.innerHTML = '';\n",
              "          dataTable['output_type'] = 'display_data';\n",
              "          await google.colab.output.renderOutput(dataTable, element);\n",
              "          const docLink = document.createElement('div');\n",
              "          docLink.innerHTML = docLinkHtml;\n",
              "          element.appendChild(docLink);\n",
              "        }\n",
              "      </script>\n",
              "    </div>\n",
              "  </div>\n",
              "  "
            ]
          },
          "metadata": {},
          "execution_count": 71
        }
      ],
      "source": [
        "feature_set"
      ]
    },
    {
      "cell_type": "code",
      "execution_count": null,
      "metadata": {
        "id": "jkXWzap0FjWA",
        "colab": {
          "base_uri": "https://localhost:8080/"
        },
        "outputId": "a523619c-7ebf-471b-e7a9-a3af06ab2ce5"
      },
      "outputs": [
        {
          "output_type": "execute_result",
          "data": {
            "text/plain": [
              "CMPLNT_FR_TM    0\n",
              "BORO_NM         0\n",
              "Precinct Num    0\n",
              "Count           0\n",
              "Pop             0\n",
              "Class           0\n",
              "hour            0\n",
              "minutes         0\n",
              "seconds         0\n",
              "dtype: int64"
            ]
          },
          "metadata": {},
          "execution_count": 72
        }
      ],
      "source": [
        "feature_set.isnull().sum()"
      ]
    },
    {
      "cell_type": "code",
      "execution_count": null,
      "metadata": {
        "id": "hfwYE7kE_cwV",
        "colab": {
          "base_uri": "https://localhost:8080/"
        },
        "outputId": "105fb1ed-f851-46fc-8326-67a730418747"
      },
      "outputs": [
        {
          "output_type": "stream",
          "name": "stderr",
          "text": [
            "/usr/local/lib/python3.7/dist-packages/sklearn/utils/validation.py:993: DataConversionWarning: A column-vector y was passed when a 1d array was expected. Please change the shape of y to (n_samples, ), for example using ravel().\n",
            "  y = column_or_1d(y, warn=True)\n",
            "/usr/local/lib/python3.7/dist-packages/ipykernel_launcher.py:26: DataConversionWarning: A column-vector y was passed when a 1d array was expected. Please change the shape of y to (n_samples,), for example using ravel().\n"
          ]
        },
        {
          "output_type": "stream",
          "name": "stdout",
          "text": [
            "The accuracy score is bayes =  0.48\n",
            "The accuracy score is reg   =  0.62\n",
            "The accuracy score is rfores=  1.0\n"
          ]
        },
        {
          "output_type": "stream",
          "name": "stderr",
          "text": [
            "/usr/local/lib/python3.7/dist-packages/sklearn/utils/validation.py:993: DataConversionWarning: A column-vector y was passed when a 1d array was expected. Please change the shape of y to (n_samples, ), for example using ravel().\n",
            "  y = column_or_1d(y, warn=True)\n"
          ]
        }
      ],
      "source": [
        "X_train , X_test , y_train, y_test = train_test_split(X, y, test_size=0.2,random_state= 50, )\n",
        "X_train= X_train.astype(int)\n",
        "X_test = X_test.astype(int)\n",
        "\n",
        "\n",
        "\n",
        "# y_train = y_train.astype(int)\n",
        "# y_test = y_test.astype(int)\n",
        "\n",
        "\n",
        "\n",
        "y_reg,score_regression = mlRegression(X_train, y_train, X_test)\n",
        "score_regression = accuracy_score(y_test,y_reg)\n",
        "\n",
        "y_rf  = mlRandomForest(X_train, y_train, X_test)\n",
        "score_randomForest = accuracy_score(y_test,y_rf)\n",
        "\n",
        "y_bayes = mlBayes(X_train, y_train, X_test)\n",
        "score_bayes = accuracy_score(y_test,y_bayes)\n",
        "\n",
        "\n",
        "\n",
        "\n",
        "\n",
        "print('The accuracy score is bayes = ', score_bayes)\n",
        "print('The accuracy score is reg   = ', score_regression)\n",
        "print('The accuracy score is rfores= ', score_randomForest)\n",
        "\n",
        "\n"
      ]
    },
    {
      "cell_type": "markdown",
      "metadata": {
        "id": "ZYt3U6nJLs9E"
      },
      "source": [
        "Plot predicted values  <br> y= test x= Zipcode <br> Heat Map If Possible otherwise any chart that can help us visualize the predicted values<br>"
      ]
    },
    {
      "cell_type": "code",
      "source": [
        "y_svm = mlSVM(X_train, y_train, X_test)\n",
        "score_SVM= accuracy_score(y_test,y_svm)\n",
        "print('The accuracy score is svm   = ', score_SVM)"
      ],
      "metadata": {
        "id": "Zqn6DtD7CGx0",
        "colab": {
          "base_uri": "https://localhost:8080/"
        },
        "outputId": "6bfd518e-7994-4df8-bc23-cdf8b2e44bea"
      },
      "execution_count": null,
      "outputs": [
        {
          "output_type": "stream",
          "name": "stdout",
          "text": [
            "The accuracy score is svm   =  0.62\n"
          ]
        },
        {
          "output_type": "stream",
          "name": "stderr",
          "text": [
            "/usr/local/lib/python3.7/dist-packages/sklearn/utils/validation.py:993: DataConversionWarning: A column-vector y was passed when a 1d array was expected. Please change the shape of y to (n_samples, ), for example using ravel().\n",
            "  y = column_or_1d(y, warn=True)\n"
          ]
        }
      ]
    },
    {
      "cell_type": "code",
      "execution_count": null,
      "metadata": {
        "id": "svXAhxtbOcdD"
      },
      "outputs": [],
      "source": [
        "# Crime Count per precinct\n",
        "# min = 832\n",
        "# mean = 15973\n",
        "# max = 36460\n",
        "\n",
        "# How did we calculate our Class range for low med high \n",
        "# crime rate\n",
        "# First Trial\n",
        "# For Crime Rate Class Low: (mean - min)/2 : (15973 - 832)/2 = 7570\n",
        "# For Crime Rate Class High: (max - mean): 36460 - 15973 : 26217\n",
        "# For Crime Rate Class Med: everything in between  7571 - 26216\n",
        "# Accuracy Score:\n",
        "#                 bayes:0.9991512290489474\n",
        "#                 svm:\n",
        "#                 reg: 0.9254750494719023\n",
        "#                 rfores: 1.0 "
      ]
    },
    {
      "cell_type": "code",
      "source": [
        "from sklearn.metrics import roc_curve, auc\n",
        "from sklearn import datasets\n",
        "from sklearn.multiclass import OneVsRestClassifier\n",
        "from sklearn.svm import LinearSVC\n",
        "from sklearn.preprocessing import label_binarize\n",
        "from sklearn.model_selection import train_test_split\n",
        "import matplotlib.pyplot as plt\n",
        "from sklearn.model_selection import GridSearchCV"
      ],
      "metadata": {
        "id": "L8Ol79ysbjkI"
      },
      "execution_count": null,
      "outputs": []
    },
    {
      "cell_type": "code",
      "source": [
        "# param_grid= {\n",
        "#     'high': 3,\n",
        "#     'med':2,\n",
        "#     'low':1, \n",
        "# }\n",
        "# grid = GridSearchCV(SVC(), param_grid, refit = True, verbose = 3,n_jobs=-1) "
      ],
      "metadata": {
        "id": "0TbkZpGScRyf"
      },
      "execution_count": null,
      "outputs": []
    },
    {
      "cell_type": "code",
      "source": [
        "from sklearn.pipeline import make_pipeline\n",
        "from sklearn.preprocessing import StandardScaler\n",
        "from sklearn.svm import LinearSVC\n",
        "\n",
        "classifier = make_pipeline(StandardScaler(), LinearSVC(random_state=42))\n",
        "classifier.fit(X_train, y_train)"
      ],
      "metadata": {
        "colab": {
          "base_uri": "https://localhost:8080/"
        },
        "id": "kx0NVAFFagof",
        "outputId": "2c2c1e35-fdcf-43c7-c644-fb71d37fe46c"
      },
      "execution_count": null,
      "outputs": [
        {
          "output_type": "stream",
          "name": "stderr",
          "text": [
            "/usr/local/lib/python3.7/dist-packages/sklearn/utils/validation.py:993: DataConversionWarning: A column-vector y was passed when a 1d array was expected. Please change the shape of y to (n_samples, ), for example using ravel().\n",
            "  y = column_or_1d(y, warn=True)\n"
          ]
        },
        {
          "output_type": "execute_result",
          "data": {
            "text/plain": [
              "Pipeline(steps=[('standardscaler', StandardScaler()),\n",
              "                ('linearsvc', LinearSVC(random_state=42))])"
            ]
          },
          "metadata": {},
          "execution_count": 78
        }
      ]
    },
    {
      "cell_type": "code",
      "source": [
        "# from sklearn.metrics import PrecisionRecallDisplay\n",
        "\n",
        "# #classifier = feature_set['Class']\n",
        "# display = PrecisionRecallDisplay.from_estimator(classifier, X_test, y_test, name=\"LinearSVC\")\n",
        "# _ = display.ax_.set_title(\"2-class Precision-Recall curve\")"
      ],
      "metadata": {
        "id": "KUl7rHVWYPzK"
      },
      "execution_count": null,
      "outputs": []
    },
    {
      "cell_type": "code",
      "source": [
        "\n",
        "# import the metrics class\n",
        "from sklearn import metrics\n",
        "cnf_matrix = metrics.confusion_matrix(y_test, y_bayes)\n",
        "cnf_matrix"
      ],
      "metadata": {
        "colab": {
          "base_uri": "https://localhost:8080/"
        },
        "id": "FSR287KB9hwG",
        "outputId": "e054d25b-cc88-4032-a61f-5dec84043bd2"
      },
      "execution_count": null,
      "outputs": [
        {
          "output_type": "execute_result",
          "data": {
            "text/plain": [
              "array([[ 9,  0,  0],\n",
              "       [16,  0, 51],\n",
              "       [37,  0, 87]])"
            ]
          },
          "metadata": {},
          "execution_count": 100
        }
      ]
    },
    {
      "cell_type": "code",
      "source": [
        "import numpy as np\n",
        "import matplotlib.pyplot as plt\n",
        "import seaborn as sns\n",
        "%matplotlib inline\n",
        "\n",
        "fig, ax = plt.subplots()\n",
        "tick_marks = np.arange(len(y))\n",
        "plt.xticks(tick_marks, y)\n",
        "plt.yticks(tick_marks, y)\n",
        "# create heatmap\n",
        "sns.heatmap(pd.DataFrame(cnf_matrix), annot=True, cmap=\"YlGnBu\" ,fmt='g')\n",
        "ax.xaxis.set_label_position(\"top\")\n",
        "plt.tight_layout()\n",
        "plt.title('Confusion matrix', y=1.1)\n",
        "plt.ylabel('Actual label')\n",
        "plt.xlabel('Predicted label')"
      ],
      "metadata": {
        "colab": {
          "base_uri": "https://localhost:8080/",
          "height": 342
        },
        "id": "QXRTx_6iHrsC",
        "outputId": "2d08fe7f-ad24-4dae-e574-8af435aad3f2"
      },
      "execution_count": null,
      "outputs": [
        {
          "output_type": "execute_result",
          "data": {
            "text/plain": [
              "Text(0.5, 257.44, 'Predicted label')"
            ]
          },
          "metadata": {},
          "execution_count": 101
        },
        {
          "output_type": "display_data",
          "data": {
            "text/plain": [
              "<Figure size 432x288 with 2 Axes>"
            ],
            "image/png": "[encoded data removed]"
          },
          "metadata": {
            "needs_background": "light"
          }
        }
      ]
    },
    {
      "cell_type": "code",
      "source": [
        "y_pred_proba = logreg.predict_proba(X_test)[::,1]\n",
        "fpr, tpr, _ = metrics.roc_curve(y_test,  y_pred_proba)\n",
        "auc = metrics.roc_auc_score(y_test, y_pred_proba)\n",
        "plt.plot(fpr,tpr,label=\"data 1, auc=\"+str(auc))\n",
        "plt.legend(loc=4)\n",
        "plt.show()"
      ],
      "metadata": {
        "id": "IjQFlTKWID2M"
      },
      "execution_count": null,
      "outputs": []
    },
    {
      "cell_type": "code",
      "source": [
        "bayes = 99.93\n",
        "lR =92.35\n",
        "rF = 100\n",
        "Svm = 100\n"
      ],
      "metadata": {
        "id": "2u8oKIR3ezrI"
      },
      "execution_count": null,
      "outputs": []
    }
  ],
  "metadata": {
    "accelerator": "TPU",
    "colab": {
      "collapsed_sections": [],
      "name": "ProjectArtificalIntelligenceFinal_05_13_22.ipynb",
      "provenance": []
    },
    "kernelspec": {
      "display_name": "Python 3",
      "name": "python3"
    },
    "language_info": {
      "name": "python"
    }
  },
  "nbformat": 4,
  "nbformat_minor": 0
}
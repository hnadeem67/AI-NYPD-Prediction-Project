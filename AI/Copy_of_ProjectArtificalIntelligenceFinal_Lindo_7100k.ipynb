{
 "cells": [
  {
   "cell_type": "code",
   "execution_count": 21,
   "metadata": {
    "id": "5o14wl2x-cf7"
   },
   "outputs": [],
   "source": [
    "# Version 1.01\n",
    "# Authors: 1) Hamza Nadeem\n",
    "#          2) Monica Restrepo\n",
    "#          3) Nency Borad\n",
    "#          4) Ajinkya Mukherjee\n",
    "# Date      Name  Version Description\n",
    "# 5/6/2022  SCL   1.01    Refactor code for Hypothesis (part II), and remove all\n",
    "#                         EDA code.\n",
    "#                 1.01    Perform Feature Selection and create utility matrix\n",
    "#                         labelled data, for supervised machine learning\n",
    "#\n",
    "# -  -  -  -  -  -  -  -  -  -  -  -  -  -  -  -  -  -  -  -  -  -  -  -  -"
   ]
  },
  {
   "cell_type": "code",
   "execution_count": 22,
   "metadata": {
    "id": "A1Nz23PhwyuA"
   },
   "outputs": [],
   "source": [
    "# Features: 1) PopSize \n",
    "#           2) Time\n",
    "#           3) Date\n",
    "#           4) Num of complaints\n",
    "#           5) Type of Crime [Felony, Misdorminor, Violation]\n",
    "#           -) Class = [ Low Crime, Medium Crime, High Crime ]\n",
    "#               10 = Low\n",
    "#              200 = Medium\n",
    "#             9000 = High\n",
    "\n",
    "# Hypo: FIgure out which zip codes will increase/dec in crime rate? \n",
    "#and we need to categorize the dataset into LOW MID HIGH  \n",
    "# Algorithms: 1) SVM\n",
    "#             2) Bayes (NB)\n",
    "#             3) Random Forest\n",
    "#             4) Logistic Regression (0 or 1)\n",
    "# -  -  -  -  -  -  -  -  -  -  -  -  -  -  -  -  -  -  -  -  -  -  -  -  -"
   ]
  },
  {
   "cell_type": "code",
   "execution_count": 23,
   "metadata": {
    "id": "G_okfUMr91gm"
   },
   "outputs": [],
   "source": [
    "# Questions to ask Professor\n",
    "# Q1: We did all this, how do add them to our Feature list\n",
    "# Q2: How do we Classify what is high,low,medium ( How do we get the score) = Range of the score\n",
    "# Q3: How do we get Population by Zipcode from total population of Burrow\n",
    "# Q4: Can we use the Number of Crimes in Each Zipcode as our Feature for number of complaints / per area\n",
    "# Q5: How do we add Labels to our dataset inorder to Train them - adding Labels to the Testing set\n",
    "# Q6: How does the iris dataset have so many features & Classes, how do we optimize our features accordingly \n",
    "#     and why do we require so many featueres and Classes?\n",
    "# Q7: Are we implementing the Alogirthms correct"
   ]
  },
  {
   "cell_type": "code",
   "execution_count": 24,
   "metadata": {
    "colab": {
     "base_uri": "https://localhost:8080/"
    },
    "id": "UzdfRCrN3i7F",
    "outputId": "71130f1d-7804-48c3-ad5d-244a6059018b"
   },
   "outputs": [
    {
     "name": "stdout",
     "output_type": "stream",
     "text": [
      "Requirement already satisfied: pandas in c:\\programdata\\anaconda3\\lib\\site-packages (1.3.4)\n",
      "Requirement already satisfied: python-dateutil>=2.7.3 in c:\\programdata\\anaconda3\\lib\\site-packages (from pandas) (2.8.2)\n",
      "Requirement already satisfied: numpy>=1.17.3 in c:\\programdata\\anaconda3\\lib\\site-packages (from pandas) (1.20.3)\n",
      "Requirement already satisfied: pytz>=2017.3 in c:\\programdata\\anaconda3\\lib\\site-packages (from pandas) (2021.3)\n",
      "Requirement already satisfied: six>=1.5 in c:\\programdata\\anaconda3\\lib\\site-packages (from python-dateutil>=2.7.3->pandas) (1.16.0)\n"
     ]
    }
   ],
   "source": [
    "!pip install pandas"
   ]
  },
  {
   "cell_type": "code",
   "execution_count": 25,
   "metadata": {},
   "outputs": [
    {
     "name": "stdout",
     "output_type": "stream",
     "text": [
      "Requirement already satisfied: seaborn in c:\\programdata\\anaconda3\\lib\\site-packages (0.11.2)\n",
      "Requirement already satisfied: scipy>=1.0 in c:\\programdata\\anaconda3\\lib\\site-packages (from seaborn) (1.7.1)\n",
      "Requirement already satisfied: pandas>=0.23 in c:\\programdata\\anaconda3\\lib\\site-packages (from seaborn) (1.3.4)\n",
      "Requirement already satisfied: numpy>=1.15 in c:\\programdata\\anaconda3\\lib\\site-packages (from seaborn) (1.20.3)\n",
      "Requirement already satisfied: matplotlib>=2.2 in c:\\programdata\\anaconda3\\lib\\site-packages (from seaborn) (3.4.3)\n",
      "Requirement already satisfied: pyparsing>=2.2.1 in c:\\programdata\\anaconda3\\lib\\site-packages (from matplotlib>=2.2->seaborn) (3.0.4)\n",
      "Requirement already satisfied: python-dateutil>=2.7 in c:\\programdata\\anaconda3\\lib\\site-packages (from matplotlib>=2.2->seaborn) (2.8.2)\n",
      "Requirement already satisfied: kiwisolver>=1.0.1 in c:\\programdata\\anaconda3\\lib\\site-packages (from matplotlib>=2.2->seaborn) (1.3.1)\n",
      "Requirement already satisfied: cycler>=0.10 in c:\\programdata\\anaconda3\\lib\\site-packages (from matplotlib>=2.2->seaborn) (0.10.0)\n",
      "Requirement already satisfied: pillow>=6.2.0 in c:\\programdata\\anaconda3\\lib\\site-packages (from matplotlib>=2.2->seaborn) (8.4.0)\n",
      "Requirement already satisfied: six in c:\\programdata\\anaconda3\\lib\\site-packages (from cycler>=0.10->matplotlib>=2.2->seaborn) (1.16.0)\n",
      "Requirement already satisfied: pytz>=2017.3 in c:\\programdata\\anaconda3\\lib\\site-packages (from pandas>=0.23->seaborn) (2021.3)\n"
     ]
    }
   ],
   "source": [
    "!pip install seaborn"
   ]
  },
  {
   "cell_type": "code",
   "execution_count": 26,
   "metadata": {},
   "outputs": [
    {
     "name": "stdout",
     "output_type": "stream",
     "text": [
      "Requirement already satisfied: matplotlib in c:\\programdata\\anaconda3\\lib\\site-packages (3.4.3)\n",
      "Requirement already satisfied: python-dateutil>=2.7 in c:\\programdata\\anaconda3\\lib\\site-packages (from matplotlib) (2.8.2)\n",
      "Requirement already satisfied: kiwisolver>=1.0.1 in c:\\programdata\\anaconda3\\lib\\site-packages (from matplotlib) (1.3.1)\n",
      "Requirement already satisfied: pyparsing>=2.2.1 in c:\\programdata\\anaconda3\\lib\\site-packages (from matplotlib) (3.0.4)\n",
      "Requirement already satisfied: pillow>=6.2.0 in c:\\programdata\\anaconda3\\lib\\site-packages (from matplotlib) (8.4.0)\n",
      "Requirement already satisfied: cycler>=0.10 in c:\\programdata\\anaconda3\\lib\\site-packages (from matplotlib) (0.10.0)\n",
      "Requirement already satisfied: numpy>=1.16 in c:\\programdata\\anaconda3\\lib\\site-packages (from matplotlib) (1.20.3)\n",
      "Requirement already satisfied: six in c:\\programdata\\anaconda3\\lib\\site-packages (from cycler>=0.10->matplotlib) (1.16.0)\n"
     ]
    }
   ],
   "source": [
    "!pip install matplotlib"
   ]
  },
  {
   "cell_type": "code",
   "execution_count": 27,
   "metadata": {},
   "outputs": [
    {
     "name": "stdout",
     "output_type": "stream",
     "text": [
      "Requirement already satisfied: geopy in c:\\programdata\\anaconda3\\lib\\site-packages (2.2.0)\n",
      "Requirement already satisfied: geographiclib<2,>=1.49 in c:\\programdata\\anaconda3\\lib\\site-packages (from geopy) (1.52)\n"
     ]
    }
   ],
   "source": [
    "!pip install geopy"
   ]
  },
  {
   "cell_type": "code",
   "execution_count": 28,
   "metadata": {},
   "outputs": [
    {
     "name": "stdout",
     "output_type": "stream",
     "text": [
      "Requirement already satisfied: scikit-learn in c:\\programdata\\anaconda3\\lib\\site-packages (1.0.2)\n",
      "Requirement already satisfied: scipy>=1.1.0 in c:\\programdata\\anaconda3\\lib\\site-packages (from scikit-learn) (1.7.1)\n",
      "Requirement already satisfied: numpy>=1.14.6 in c:\\programdata\\anaconda3\\lib\\site-packages (from scikit-learn) (1.20.3)\n",
      "Requirement already satisfied: threadpoolctl>=2.0.0 in c:\\programdata\\anaconda3\\lib\\site-packages (from scikit-learn) (2.2.0)\n",
      "Requirement already satisfied: joblib>=0.11 in c:\\programdata\\anaconda3\\lib\\site-packages (from scikit-learn) (1.1.0)\n",
      "Note: you may need to restart the kernel to use updated packages.\n"
     ]
    }
   ],
   "source": [
    "pip install -U scikit-learn\n"
   ]
  },
  {
   "cell_type": "code",
   "execution_count": 29,
   "metadata": {
    "colab": {
     "base_uri": "https://localhost:8080/"
    },
    "id": "w2Kq7rFeoomm",
    "outputId": "15453a70-9b40-4098-aea9-0e08c7c4153f"
   },
   "outputs": [],
   "source": [
    "import pandas as pd\n",
    "import seaborn as sns\n",
    "import matplotlib.pyplot as plt\n",
    "df1 = pd.read_csv(r'C:\\Users\\hnade\\Downloads\\AI\\final_project_csvs\\NYPD_Complaint_Data_Historic.csv', low_memory=False)\n",
    "df2 = pd.read_csv(r'C:\\Users\\hnade\\Downloads\\AI\\final_project_csvs\\Crime_Column_Description.csv', low_memory=False)\n",
    "df3 = pd.read_csv(r'C:\\Users\\hnade\\Downloads\\AI\\final_project_csvs\\Population_by_Borough_NYC.csv', low_memory=False)\n",
    "#df4 = pd.read_csv('/content/gdrive/MyDrive/AI/final_project_csvs/ziptoborough.csv')\n"
   ]
  },
  {
   "cell_type": "code",
   "execution_count": 30,
   "metadata": {},
   "outputs": [],
   "source": [
    "df1=df1.iloc[600000:700000]"
   ]
  },
  {
   "cell_type": "code",
   "execution_count": 31,
   "metadata": {
    "id": "tKryC3bm41mp"
   },
   "outputs": [],
   "source": [
    "def makeCategories(df):\n",
    "  category = [health,residence,worship,pub,retail,Tranportation,Food_Beverage,finance,other]\n",
    "  residence_count = 0\n",
    "  health_count = 0\n",
    "  worship_count = 0\n",
    "  pub_count = 0\n",
    "  retial_count = 0\n",
    "  tranport_count = 0\n",
    "  foodbev_count = 0\n",
    "  finance_count = 0\n",
    "  other_count = 0\n",
    "  df['Food & beverage'] = 0\n",
    "\n",
    "  for a in df['PREM_TYP_DESC']:\n",
    "    if a in residence:      \n",
    "      residence_count += 1\n",
    "      \n",
    "    if a in other:\n",
    "      other_count += 1\n",
    "\n",
    "    if a in finance:\n",
    "      finance_count += 1\n",
    "\n",
    "    if a in Food_Beverage:\n",
    "      foodbev_count += 1\n",
    "      df['Food and beverage'] = 1\n",
    "      pass\n",
    "\n",
    "    if a in Tranportation:\n",
    "      tranport_count += 1\n",
    "\n",
    "    if a in retail:\n",
    "      retial_count += 1\n",
    "\n",
    "    if a in worship:\n",
    "      worship_count += 1\n",
    "        \n",
    "    if a in health:\n",
    "      health_count += 1\n",
    "      \n",
    "  print('residence',residence_count)\n",
    "  print('other',other_count)\n",
    "  print('finance',finance_count)\n",
    "  print('food',foodbev_count)        \n",
    "  print('Transport',tranport_count)\n",
    "  print('Retail',retial_count)\n",
    "  print('Worship',worship_count)\n",
    "  print('Health',health_count)\n",
    "\n",
    "  return residence_count, other_count, finance_count, foodbev_count, tranport_count, retial_count, worship_count, health_count, pub_count"
   ]
  },
  {
   "cell_type": "code",
   "execution_count": null,
   "metadata": {
    "id": "meHu0-yihWnZ"
   },
   "outputs": [],
   "source": []
  },
  {
   "cell_type": "code",
   "execution_count": 32,
   "metadata": {
    "id": "CBDQoLQBiIfg"
   },
   "outputs": [],
   "source": [
    "health = ['DRUG STORE','DOCTOR/DENTIST OFFICE','HOSPITAL']\n",
    "residence = ['RESIDENCE-HOUSE','RESIDENCE - APT. HOUSE','RESIDENCE - PUBLIC HOUSING']\n",
    "worship = ['CHURCH','SYNAGOGUE','OTHER HOUSE OF WORSHIP','MOSQUE']\n",
    "pub = ['STREET','PUBLIC BUILDING','PARK/PLAYGROUND','PARKING LOT/GARAGE (PUBLIC)','PRIVATE/PAROCHIAL SCHOOL','BOOK/CARD','MARINA/PIER',\n",
    "       'PUBLIC SCHOOL','CEMETERY']\n",
    "retail = ['DRY CLEANER/LAUNDRY','GAS STATION','CHAIN STORE','BEAUTY & NAIL SALON',\n",
    "          'COMMERCIAL BUILDING','HOTEL/MOTEL','SMALL MERCHANT','PARKING LOT/GARAGE (PRIVATE)',\n",
    "          'DEPARTMENT STORE','GYM/FITNESS FACILITY','VARIETY STORE','CLOTHING/BOUTIQUE','TELECOMM. STORE',\n",
    "          'JEWELRY','CANDY STORE','STORAGE FACILITY','VIDEO STORE']\n",
    "Tranportation = ['TUNNEL','TRANSIT - NYC SUBWAY','BUS (NYC TRANSIT)','FERRY/FERRY TERMINAL','BUS STOP','TAXI (LIVERY LICENSED)',\n",
    "                 'BRIDGE','AIRPORT TERMINAL','HIGHWAY/PARKWAY','BUS (OTHER)',\n",
    "                 'TRANSIT FACILITY (OTHER)','BUS TERMINAL','TAXI (YELLOW LICENSED)','TAXI/LIVERY (UNLICENSED)','TRAMWAY']\n",
    "Food_Beverage= ['BAR/NIGHT CLUB' , 'FAST FOOD' , 'RESTAURANT/DINER' , 'GROCERY/BODEGA' , 'FOOD SUPERMARKET' , 'SOCIAL CLUB/POLICY' , 'LIQUOR STORE']\n",
    "finance = ['CHECK CASHING BUSINESS','BANK','ATM','LOAN COMPANY']\n",
    "other = ['OTHER','STORE UNCLASSIFIED','CONSTRUCTION SITE','FACTORY/WAREHOUSE','OPEN AREAS (OPEN LOTS)','ABANDONED BUILDING','SHOE','PHOTO/COPY']"
   ]
  },
  {
   "cell_type": "code",
   "execution_count": 33,
   "metadata": {
    "colab": {
     "base_uri": "https://localhost:8080/",
     "height": 372
    },
    "id": "HNxU7_SU-su0",
    "outputId": "bd4eabce-8af5-4b22-bae4-b1b8a0605c39"
   },
   "outputs": [
    {
     "name": "stdout",
     "output_type": "stream",
     "text": [
      "<class 'pandas.core.frame.DataFrame'>\n",
      "RangeIndex: 100000 entries, 600000 to 699999\n",
      "Data columns (total 24 columns):\n",
      " #   Column             Non-Null Count   Dtype  \n",
      "---  ------             --------------   -----  \n",
      " 0   CMPLNT_NUM         100000 non-null  int64  \n",
      " 1   CMPLNT_FR_DT       99992 non-null   object \n",
      " 2   CMPLNT_FR_TM       100000 non-null  object \n",
      " 3   CMPLNT_TO_DT       80310 non-null   object \n",
      " 4   CMPLNT_TO_TM       80347 non-null   object \n",
      " 5   RPT_DT             100000 non-null  object \n",
      " 6   KY_CD              100000 non-null  int64  \n",
      " 7   OFNS_DESC          99671 non-null   object \n",
      " 8   PD_CD              99929 non-null   float64\n",
      " 9   PD_DESC            99929 non-null   object \n",
      " 10  CRM_ATPT_CPTD_CD   100000 non-null  object \n",
      " 11  LAW_CAT_CD         100000 non-null  object \n",
      " 12  JURIS_DESC         100000 non-null  object \n",
      " 13  BORO_NM            100000 non-null  object \n",
      " 14  ADDR_PCT_CD        100000 non-null  float64\n",
      " 15  LOC_OF_OCCUR_DESC  77950 non-null   object \n",
      " 16  PREM_TYP_DESC      99594 non-null   object \n",
      " 17  PARKS_NM           1564 non-null    object \n",
      " 18  HADEVELOPT         4566 non-null    object \n",
      " 19  X_COORD_CD         95737 non-null   float64\n",
      " 20  Y_COORD_CD         95737 non-null   float64\n",
      " 21  Latitude           95737 non-null   float64\n",
      " 22  Longitude          95737 non-null   float64\n",
      " 23  Lat_Lon            95737 non-null   object \n",
      "dtypes: float64(6), int64(2), object(16)\n",
      "memory usage: 18.3+ MB\n"
     ]
    }
   ],
   "source": [
    "df1.info()"
   ]
  },
  {
   "cell_type": "code",
   "execution_count": 34,
   "metadata": {
    "colab": {
     "base_uri": "https://localhost:8080/"
    },
    "id": "1Hv_etH6hLTr",
    "outputId": "4cb03ca4-e99f-4f1d-e75f-f5953f410073"
   },
   "outputs": [
    {
     "name": "stdout",
     "output_type": "stream",
     "text": [
      "residence 37125\n",
      "other 3753\n",
      "finance 551\n",
      "food 4938\n",
      "Transport 3508\n",
      "Retail 11108\n",
      "Worship 256\n",
      "Health 1679\n"
     ]
    }
   ],
   "source": [
    "residencecount, othercount, financecount, foodbevcount, tranportcount, retialcount, worshipcount, healthcount, pubcount = makeCategories(df1)"
   ]
  },
  {
   "cell_type": "code",
   "execution_count": 35,
   "metadata": {
    "id": "7Fk6cp3Q4Wak"
   },
   "outputs": [],
   "source": [
    "#Assign zipcodes to each row\n",
    "\n",
    "import geopy\n",
    "from geopy.point import Point\n",
    "\n",
    "def get_zipcode(df1, geolocator, Latitude, Longitude):\n",
    "  zipcode = 99999\n",
    "  try: \n",
    "    location = geolocator.reverse(Point(df1[\"Latitude\"], df1[\"Longitude\"]))\n",
    "    zipcode = location.raw['address']['postcode']\n",
    "    zipcode = int(zipcode)\n",
    "  except:\n",
    "    pass\n",
    "  return zipcode\n",
    "\n",
    "geolocator = geopy.Nominatim(user_agent='AI-application')\n",
    "df1['Zipcodes'] = df1.apply(get_zipcode, axis=1, geolocator=geolocator, Latitude=df1[\"Latitude\"], Longitude=df1[\"Longitude\"])\n",
    "df1.to_csv (r'C:\\Users\\hnade\\Downloads\\AI\\final_project_csvs\\export_dataframe7.csv', index = False, header=True)"
   ]
  },
  {
   "cell_type": "code",
   "execution_count": null,
   "metadata": {
    "id": "dLed35dF0JUr"
   },
   "outputs": [],
   "source": []
  },
  {
   "cell_type": "code",
   "execution_count": 36,
   "metadata": {
    "id": "Lh83y84zCasN"
   },
   "outputs": [
    {
     "data": {
      "text/html": [
       "<div>\n",
       "<style scoped>\n",
       "    .dataframe tbody tr th:only-of-type {\n",
       "        vertical-align: middle;\n",
       "    }\n",
       "\n",
       "    .dataframe tbody tr th {\n",
       "        vertical-align: top;\n",
       "    }\n",
       "\n",
       "    .dataframe thead th {\n",
       "        text-align: right;\n",
       "    }\n",
       "</style>\n",
       "<table border=\"1\" class=\"dataframe\">\n",
       "  <thead>\n",
       "    <tr style=\"text-align: right;\">\n",
       "      <th></th>\n",
       "      <th>CMPLNT_NUM</th>\n",
       "      <th>CMPLNT_FR_DT</th>\n",
       "      <th>CMPLNT_FR_TM</th>\n",
       "      <th>CMPLNT_TO_DT</th>\n",
       "      <th>CMPLNT_TO_TM</th>\n",
       "      <th>RPT_DT</th>\n",
       "      <th>KY_CD</th>\n",
       "      <th>OFNS_DESC</th>\n",
       "      <th>PD_CD</th>\n",
       "      <th>PD_DESC</th>\n",
       "      <th>...</th>\n",
       "      <th>PARKS_NM</th>\n",
       "      <th>HADEVELOPT</th>\n",
       "      <th>X_COORD_CD</th>\n",
       "      <th>Y_COORD_CD</th>\n",
       "      <th>Latitude</th>\n",
       "      <th>Longitude</th>\n",
       "      <th>Lat_Lon</th>\n",
       "      <th>Food &amp; beverage</th>\n",
       "      <th>Food and beverage</th>\n",
       "      <th>Zipcodes</th>\n",
       "    </tr>\n",
       "  </thead>\n",
       "  <tbody>\n",
       "    <tr>\n",
       "      <th>600000</th>\n",
       "      <td>154194242</td>\n",
       "      <td>9/25/2014</td>\n",
       "      <td>10:00:00</td>\n",
       "      <td>9/28/2014</td>\n",
       "      <td>12:30:00</td>\n",
       "      <td>9/28/2014</td>\n",
       "      <td>341</td>\n",
       "      <td>PETIT LARCENY</td>\n",
       "      <td>321.0</td>\n",
       "      <td>LARCENY,PETIT FROM AUTO</td>\n",
       "      <td>...</td>\n",
       "      <td>NaN</td>\n",
       "      <td>NaN</td>\n",
       "      <td>1002276.0</td>\n",
       "      <td>251937.0</td>\n",
       "      <td>40.858174</td>\n",
       "      <td>-73.934837</td>\n",
       "      <td>(40.858173522, -73.934836924)</td>\n",
       "      <td>0</td>\n",
       "      <td>1</td>\n",
       "      <td>99999</td>\n",
       "    </tr>\n",
       "    <tr>\n",
       "      <th>600001</th>\n",
       "      <td>636178922</td>\n",
       "      <td>9/25/2014</td>\n",
       "      <td>7:30:00</td>\n",
       "      <td>9/28/2014</td>\n",
       "      <td>18:00:00</td>\n",
       "      <td>9/28/2014</td>\n",
       "      <td>107</td>\n",
       "      <td>BURGLARY</td>\n",
       "      <td>221.0</td>\n",
       "      <td>BURGLARY,RESIDENCE,DAY</td>\n",
       "      <td>...</td>\n",
       "      <td>NaN</td>\n",
       "      <td>NaN</td>\n",
       "      <td>984404.0</td>\n",
       "      <td>187702.0</td>\n",
       "      <td>40.681884</td>\n",
       "      <td>-73.999446</td>\n",
       "      <td>(40.681883606, -73.999446202)</td>\n",
       "      <td>0</td>\n",
       "      <td>1</td>\n",
       "      <td>99999</td>\n",
       "    </tr>\n",
       "    <tr>\n",
       "      <th>600002</th>\n",
       "      <td>446221511</td>\n",
       "      <td>9/25/2014</td>\n",
       "      <td>7:00:00</td>\n",
       "      <td>9/25/2014</td>\n",
       "      <td>23:00:00</td>\n",
       "      <td>9/28/2014</td>\n",
       "      <td>107</td>\n",
       "      <td>BURGLARY</td>\n",
       "      <td>221.0</td>\n",
       "      <td>BURGLARY,RESIDENCE,DAY</td>\n",
       "      <td>...</td>\n",
       "      <td>NaN</td>\n",
       "      <td>NaN</td>\n",
       "      <td>1022375.0</td>\n",
       "      <td>146521.0</td>\n",
       "      <td>40.568768</td>\n",
       "      <td>-73.862775</td>\n",
       "      <td>(40.568768433, -73.862775491)</td>\n",
       "      <td>0</td>\n",
       "      <td>1</td>\n",
       "      <td>99999</td>\n",
       "    </tr>\n",
       "    <tr>\n",
       "      <th>600003</th>\n",
       "      <td>169181805</td>\n",
       "      <td>9/25/2014</td>\n",
       "      <td>6:45:00</td>\n",
       "      <td>9/25/2014</td>\n",
       "      <td>6:45:00</td>\n",
       "      <td>9/28/2014</td>\n",
       "      <td>121</td>\n",
       "      <td>CRIMINAL MISCHIEF &amp; RELATED OF</td>\n",
       "      <td>269.0</td>\n",
       "      <td>MISCHIEF,CRIMINAL,    UNCL 2ND</td>\n",
       "      <td>...</td>\n",
       "      <td>NaN</td>\n",
       "      <td>NaN</td>\n",
       "      <td>1001955.0</td>\n",
       "      <td>216397.0</td>\n",
       "      <td>40.760627</td>\n",
       "      <td>-73.936091</td>\n",
       "      <td>(40.760626741, -73.936091079)</td>\n",
       "      <td>0</td>\n",
       "      <td>1</td>\n",
       "      <td>99999</td>\n",
       "    </tr>\n",
       "    <tr>\n",
       "      <th>600004</th>\n",
       "      <td>832826426</td>\n",
       "      <td>9/25/2014</td>\n",
       "      <td>4:00:00</td>\n",
       "      <td>9/25/2014</td>\n",
       "      <td>4:15:00</td>\n",
       "      <td>9/28/2014</td>\n",
       "      <td>341</td>\n",
       "      <td>PETIT LARCENY</td>\n",
       "      <td>321.0</td>\n",
       "      <td>LARCENY,PETIT FROM AUTO</td>\n",
       "      <td>...</td>\n",
       "      <td>NaN</td>\n",
       "      <td>NaN</td>\n",
       "      <td>998334.0</td>\n",
       "      <td>167536.0</td>\n",
       "      <td>40.626521</td>\n",
       "      <td>-73.949264</td>\n",
       "      <td>(40.62652114, -73.949264079)</td>\n",
       "      <td>0</td>\n",
       "      <td>1</td>\n",
       "      <td>99999</td>\n",
       "    </tr>\n",
       "  </tbody>\n",
       "</table>\n",
       "<p>5 rows × 27 columns</p>\n",
       "</div>"
      ],
      "text/plain": [
       "        CMPLNT_NUM CMPLNT_FR_DT CMPLNT_FR_TM CMPLNT_TO_DT CMPLNT_TO_TM  \\\n",
       "600000   154194242    9/25/2014     10:00:00    9/28/2014     12:30:00   \n",
       "600001   636178922    9/25/2014      7:30:00    9/28/2014     18:00:00   \n",
       "600002   446221511    9/25/2014      7:00:00    9/25/2014     23:00:00   \n",
       "600003   169181805    9/25/2014      6:45:00    9/25/2014      6:45:00   \n",
       "600004   832826426    9/25/2014      4:00:00    9/25/2014      4:15:00   \n",
       "\n",
       "           RPT_DT  KY_CD                       OFNS_DESC  PD_CD  \\\n",
       "600000  9/28/2014    341                   PETIT LARCENY  321.0   \n",
       "600001  9/28/2014    107                        BURGLARY  221.0   \n",
       "600002  9/28/2014    107                        BURGLARY  221.0   \n",
       "600003  9/28/2014    121  CRIMINAL MISCHIEF & RELATED OF  269.0   \n",
       "600004  9/28/2014    341                   PETIT LARCENY  321.0   \n",
       "\n",
       "                               PD_DESC  ... PARKS_NM HADEVELOPT X_COORD_CD  \\\n",
       "600000         LARCENY,PETIT FROM AUTO  ...      NaN        NaN  1002276.0   \n",
       "600001          BURGLARY,RESIDENCE,DAY  ...      NaN        NaN   984404.0   \n",
       "600002          BURGLARY,RESIDENCE,DAY  ...      NaN        NaN  1022375.0   \n",
       "600003  MISCHIEF,CRIMINAL,    UNCL 2ND  ...      NaN        NaN  1001955.0   \n",
       "600004         LARCENY,PETIT FROM AUTO  ...      NaN        NaN   998334.0   \n",
       "\n",
       "       Y_COORD_CD   Latitude  Longitude                        Lat_Lon  \\\n",
       "600000   251937.0  40.858174 -73.934837  (40.858173522, -73.934836924)   \n",
       "600001   187702.0  40.681884 -73.999446  (40.681883606, -73.999446202)   \n",
       "600002   146521.0  40.568768 -73.862775  (40.568768433, -73.862775491)   \n",
       "600003   216397.0  40.760627 -73.936091  (40.760626741, -73.936091079)   \n",
       "600004   167536.0  40.626521 -73.949264   (40.62652114, -73.949264079)   \n",
       "\n",
       "       Food & beverage Food and beverage  Zipcodes  \n",
       "600000               0                 1     99999  \n",
       "600001               0                 1     99999  \n",
       "600002               0                 1     99999  \n",
       "600003               0                 1     99999  \n",
       "600004               0                 1     99999  \n",
       "\n",
       "[5 rows x 27 columns]"
      ]
     },
     "execution_count": 36,
     "metadata": {},
     "output_type": "execute_result"
    }
   ],
   "source": [
    "df1.head()"
   ]
  },
  {
   "cell_type": "markdown",
   "metadata": {
    "id": "yiRyutJAcGrs"
   },
   "source": [
    "HYPOTHESIS: Segregate Burrows based on type of crime. "
   ]
  },
  {
   "cell_type": "code",
   "execution_count": 37,
   "metadata": {
    "id": "pM78VVk-91ap"
   },
   "outputs": [
    {
     "data": {
      "text/html": [
       "<div>\n",
       "<style scoped>\n",
       "    .dataframe tbody tr th:only-of-type {\n",
       "        vertical-align: middle;\n",
       "    }\n",
       "\n",
       "    .dataframe tbody tr th {\n",
       "        vertical-align: top;\n",
       "    }\n",
       "\n",
       "    .dataframe thead th {\n",
       "        text-align: right;\n",
       "    }\n",
       "</style>\n",
       "<table border=\"1\" class=\"dataframe\">\n",
       "  <thead>\n",
       "    <tr style=\"text-align: right;\">\n",
       "      <th></th>\n",
       "      <th>Borough</th>\n",
       "      <th>2010</th>\n",
       "    </tr>\n",
       "  </thead>\n",
       "  <tbody>\n",
       "    <tr>\n",
       "      <th>0</th>\n",
       "      <td>NYC Total</td>\n",
       "      <td>8,242,624</td>\n",
       "    </tr>\n",
       "    <tr>\n",
       "      <th>1</th>\n",
       "      <td>Bronx</td>\n",
       "      <td>1,385,108</td>\n",
       "    </tr>\n",
       "    <tr>\n",
       "      <th>2</th>\n",
       "      <td>Brooklyn</td>\n",
       "      <td>2,552,911</td>\n",
       "    </tr>\n",
       "    <tr>\n",
       "      <th>3</th>\n",
       "      <td>Manhattan</td>\n",
       "      <td>1,585,873</td>\n",
       "    </tr>\n",
       "    <tr>\n",
       "      <th>4</th>\n",
       "      <td>Queens</td>\n",
       "      <td>2,250,002</td>\n",
       "    </tr>\n",
       "    <tr>\n",
       "      <th>5</th>\n",
       "      <td>Staten Island</td>\n",
       "      <td>468,730</td>\n",
       "    </tr>\n",
       "  </tbody>\n",
       "</table>\n",
       "</div>"
      ],
      "text/plain": [
       "            Borough       2010\n",
       "0         NYC Total  8,242,624\n",
       "1             Bronx  1,385,108\n",
       "2          Brooklyn  2,552,911\n",
       "3         Manhattan  1,585,873\n",
       "4            Queens  2,250,002\n",
       "5     Staten Island    468,730"
      ]
     },
     "execution_count": 37,
     "metadata": {},
     "output_type": "execute_result"
    }
   ],
   "source": [
    "# Pop Size\n",
    "feature_1 = df3[['Borough','2010']]\n",
    "feature_1"
   ]
  },
  {
   "cell_type": "code",
   "execution_count": 38,
   "metadata": {
    "id": "QbWbc0j889T7"
   },
   "outputs": [
    {
     "data": {
      "text/html": [
       "<div>\n",
       "<style scoped>\n",
       "    .dataframe tbody tr th:only-of-type {\n",
       "        vertical-align: middle;\n",
       "    }\n",
       "\n",
       "    .dataframe tbody tr th {\n",
       "        vertical-align: top;\n",
       "    }\n",
       "\n",
       "    .dataframe thead th {\n",
       "        text-align: right;\n",
       "    }\n",
       "</style>\n",
       "<table border=\"1\" class=\"dataframe\">\n",
       "  <thead>\n",
       "    <tr style=\"text-align: right;\">\n",
       "      <th></th>\n",
       "      <th>CMPLNT_FR_TM</th>\n",
       "      <th>BORO_NM</th>\n",
       "    </tr>\n",
       "    <tr>\n",
       "      <th>Zipcodes</th>\n",
       "      <th></th>\n",
       "      <th></th>\n",
       "    </tr>\n",
       "  </thead>\n",
       "  <tbody>\n",
       "    <tr>\n",
       "      <th>99999</th>\n",
       "      <td>10:00:00</td>\n",
       "      <td>MANHATTAN</td>\n",
       "    </tr>\n",
       "    <tr>\n",
       "      <th>99999</th>\n",
       "      <td>7:30:00</td>\n",
       "      <td>BROOKLYN</td>\n",
       "    </tr>\n",
       "    <tr>\n",
       "      <th>99999</th>\n",
       "      <td>7:00:00</td>\n",
       "      <td>QUEENS</td>\n",
       "    </tr>\n",
       "    <tr>\n",
       "      <th>99999</th>\n",
       "      <td>6:45:00</td>\n",
       "      <td>QUEENS</td>\n",
       "    </tr>\n",
       "    <tr>\n",
       "      <th>99999</th>\n",
       "      <td>4:00:00</td>\n",
       "      <td>BROOKLYN</td>\n",
       "    </tr>\n",
       "  </tbody>\n",
       "</table>\n",
       "</div>"
      ],
      "text/plain": [
       "         CMPLNT_FR_TM    BORO_NM\n",
       "Zipcodes                        \n",
       "99999        10:00:00  MANHATTAN\n",
       "99999         7:30:00   BROOKLYN\n",
       "99999         7:00:00     QUEENS\n",
       "99999         6:45:00     QUEENS\n",
       "99999         4:00:00   BROOKLYN"
      ]
     },
     "execution_count": 38,
     "metadata": {},
     "output_type": "execute_result"
    }
   ],
   "source": [
    "# Time of Day\n",
    "feature_set = df1[['CMPLNT_FR_TM','BORO_NM','Zipcodes']]\n",
    "feature_set.set_index('Zipcodes', inplace=True)\n",
    "feature_set.head()"
   ]
  },
  {
   "cell_type": "code",
   "execution_count": 39,
   "metadata": {
    "id": "29IUAZqFEMuO"
   },
   "outputs": [
    {
     "name": "stderr",
     "output_type": "stream",
     "text": [
      "C:\\Users\\hnade\\AppData\\Local\\Temp/ipykernel_36132/3093834656.py:1: SettingWithCopyWarning: \n",
      "A value is trying to be set on a copy of a slice from a DataFrame.\n",
      "Try using .loc[row_indexer,col_indexer] = value instead\n",
      "\n",
      "See the caveats in the documentation: https://pandas.pydata.org/pandas-docs/stable/user_guide/indexing.html#returning-a-view-versus-a-copy\n",
      "  feature_set['Count'] = df1.groupby(by='Zipcodes')['CMPLNT_NUM'].count()\n"
     ]
    },
    {
     "data": {
      "text/html": [
       "<div>\n",
       "<style scoped>\n",
       "    .dataframe tbody tr th:only-of-type {\n",
       "        vertical-align: middle;\n",
       "    }\n",
       "\n",
       "    .dataframe tbody tr th {\n",
       "        vertical-align: top;\n",
       "    }\n",
       "\n",
       "    .dataframe thead th {\n",
       "        text-align: right;\n",
       "    }\n",
       "</style>\n",
       "<table border=\"1\" class=\"dataframe\">\n",
       "  <thead>\n",
       "    <tr style=\"text-align: right;\">\n",
       "      <th></th>\n",
       "      <th>CMPLNT_FR_TM</th>\n",
       "      <th>BORO_NM</th>\n",
       "      <th>Count</th>\n",
       "    </tr>\n",
       "    <tr>\n",
       "      <th>Zipcodes</th>\n",
       "      <th></th>\n",
       "      <th></th>\n",
       "      <th></th>\n",
       "    </tr>\n",
       "  </thead>\n",
       "  <tbody>\n",
       "    <tr>\n",
       "      <th>99999</th>\n",
       "      <td>10:00:00</td>\n",
       "      <td>MANHATTAN</td>\n",
       "      <td>99999</td>\n",
       "    </tr>\n",
       "    <tr>\n",
       "      <th>99999</th>\n",
       "      <td>7:30:00</td>\n",
       "      <td>BROOKLYN</td>\n",
       "      <td>99999</td>\n",
       "    </tr>\n",
       "    <tr>\n",
       "      <th>99999</th>\n",
       "      <td>7:00:00</td>\n",
       "      <td>QUEENS</td>\n",
       "      <td>99999</td>\n",
       "    </tr>\n",
       "    <tr>\n",
       "      <th>99999</th>\n",
       "      <td>6:45:00</td>\n",
       "      <td>QUEENS</td>\n",
       "      <td>99999</td>\n",
       "    </tr>\n",
       "    <tr>\n",
       "      <th>99999</th>\n",
       "      <td>4:00:00</td>\n",
       "      <td>BROOKLYN</td>\n",
       "      <td>99999</td>\n",
       "    </tr>\n",
       "  </tbody>\n",
       "</table>\n",
       "</div>"
      ],
      "text/plain": [
       "         CMPLNT_FR_TM    BORO_NM  Count\n",
       "Zipcodes                               \n",
       "99999        10:00:00  MANHATTAN  99999\n",
       "99999         7:30:00   BROOKLYN  99999\n",
       "99999         7:00:00     QUEENS  99999\n",
       "99999         6:45:00     QUEENS  99999\n",
       "99999         4:00:00   BROOKLYN  99999"
      ]
     },
     "execution_count": 39,
     "metadata": {},
     "output_type": "execute_result"
    }
   ],
   "source": [
    "feature_set['Count'] = df1.groupby(by='Zipcodes')['CMPLNT_NUM'].count()\n",
    "\n",
    "# Datetime conversion using astype:\n",
    "#feature_set['CMPLNT_FR_TM'] = feature_set['CMPLNT_FR_TM'].astype('datetime64[ns]')\n",
    "feature_set.head()"
   ]
  },
  {
   "cell_type": "code",
   "execution_count": 40,
   "metadata": {
    "id": "g0euV_6fbdyc"
   },
   "outputs": [],
   "source": [
    "#if time between 6pm and 4am, and count > 10, then high_crime\n",
    "#if time between 6pm and 4am, and count < 10 but > 5, then medium_crime\n",
    "#if time between 6pm and 4am, and count < 5, then low_crime\n"
   ]
  }
 ],
 "metadata": {
  "colab": {
   "collapsed_sections": [],
   "name": "Copy of ProjectArtificalIntelligenceFinal-Lindo.ipynb",
   "provenance": []
  },
  "kernelspec": {
   "display_name": "Python 3 (ipykernel)",
   "language": "python",
   "name": "python3"
  },
  "language_info": {
   "codemirror_mode": {
    "name": "ipython",
    "version": 3
   },
   "file_extension": ".py",
   "mimetype": "text/x-python",
   "name": "python",
   "nbconvert_exporter": "python",
   "pygments_lexer": "ipython3",
   "version": "3.9.7"
  }
 },
 "nbformat": 4,
 "nbformat_minor": 1
}

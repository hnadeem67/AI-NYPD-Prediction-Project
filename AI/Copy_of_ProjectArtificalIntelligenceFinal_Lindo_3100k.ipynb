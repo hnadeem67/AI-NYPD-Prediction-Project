{
 "cells": [
  {
   "cell_type": "code",
   "execution_count": 31,
   "metadata": {
    "id": "5o14wl2x-cf7"
   },
   "outputs": [],
   "source": [
    "# Version 1.01\n",
    "# Authors: 1) Hamza Nadeem\n",
    "#          2) Monica Restrepo\n",
    "#          3) Nency Borad\n",
    "#          4) Ajinkya Mukherjee\n",
    "# Date      Name  Version Description\n",
    "# 5/6/2022  SCL   1.01    Refactor code for Hypothesis (part II), and remove all\n",
    "#                         EDA code.\n",
    "#                 1.01    Perform Feature Selection and create utility matrix\n",
    "#                         labelled data, for supervised machine learning\n",
    "#\n",
    "# -  -  -  -  -  -  -  -  -  -  -  -  -  -  -  -  -  -  -  -  -  -  -  -  -"
   ]
  },
  {
   "cell_type": "code",
   "execution_count": 32,
   "metadata": {
    "id": "A1Nz23PhwyuA"
   },
   "outputs": [],
   "source": [
    "# Features: 1) PopSize \n",
    "#           2) Time\n",
    "#           3) Date\n",
    "#           4) Num of complaints\n",
    "#           5) Type of Crime [Felony, Misdorminor, Violation]\n",
    "#           -) Class = [ Low Crime, Medium Crime, High Crime ]\n",
    "#               10 = Low\n",
    "#              200 = Medium\n",
    "#             9000 = High\n",
    "\n",
    "# Hypo: FIgure out which zip codes will increase/dec in crime rate? \n",
    "#and we need to categorize the dataset into LOW MID HIGH  \n",
    "# Algorithms: 1) SVM\n",
    "#             2) Bayes (NB)\n",
    "#             3) Random Forest\n",
    "#             4) Logistic Regression (0 or 1)\n",
    "# -  -  -  -  -  -  -  -  -  -  -  -  -  -  -  -  -  -  -  -  -  -  -  -  -"
   ]
  },
  {
   "cell_type": "code",
   "execution_count": 33,
   "metadata": {
    "id": "G_okfUMr91gm"
   },
   "outputs": [],
   "source": [
    "# Questions to ask Professor\n",
    "# Q1: We did all this, how do add them to our Feature list\n",
    "# Q2: How do we Classify what is high,low,medium ( How do we get the score) = Range of the score\n",
    "# Q3: How do we get Population by Zipcode from total population of Burrow\n",
    "# Q4: Can we use the Number of Crimes in Each Zipcode as our Feature for number of complaints / per area\n",
    "# Q5: How do we add Labels to our dataset inorder to Train them - adding Labels to the Testing set\n",
    "# Q6: How does the iris dataset have so many features & Classes, how do we optimize our features accordingly \n",
    "#     and why do we require so many featueres and Classes?\n",
    "# Q7: Are we implementing the Alogirthms correct"
   ]
  },
  {
   "cell_type": "code",
   "execution_count": 34,
   "metadata": {
    "colab": {
     "base_uri": "https://localhost:8080/"
    },
    "id": "UzdfRCrN3i7F",
    "outputId": "71130f1d-7804-48c3-ad5d-244a6059018b"
   },
   "outputs": [
    {
     "name": "stdout",
     "output_type": "stream",
     "text": [
      "Requirement already satisfied: pandas in c:\\programdata\\anaconda3\\lib\\site-packages (1.3.4)\n",
      "Requirement already satisfied: pytz>=2017.3 in c:\\programdata\\anaconda3\\lib\\site-packages (from pandas) (2021.3)\n",
      "Requirement already satisfied: numpy>=1.17.3 in c:\\programdata\\anaconda3\\lib\\site-packages (from pandas) (1.20.3)\n",
      "Requirement already satisfied: python-dateutil>=2.7.3 in c:\\programdata\\anaconda3\\lib\\site-packages (from pandas) (2.8.2)\n",
      "Requirement already satisfied: six>=1.5 in c:\\programdata\\anaconda3\\lib\\site-packages (from python-dateutil>=2.7.3->pandas) (1.16.0)\n"
     ]
    }
   ],
   "source": [
    "!pip install pandas"
   ]
  },
  {
   "cell_type": "code",
   "execution_count": 35,
   "metadata": {},
   "outputs": [
    {
     "name": "stdout",
     "output_type": "stream",
     "text": [
      "Requirement already satisfied: seaborn in c:\\programdata\\anaconda3\\lib\\site-packages (0.11.2)\n",
      "Requirement already satisfied: scipy>=1.0 in c:\\programdata\\anaconda3\\lib\\site-packages (from seaborn) (1.7.1)\n",
      "Requirement already satisfied: matplotlib>=2.2 in c:\\programdata\\anaconda3\\lib\\site-packages (from seaborn) (3.4.3)\n",
      "Requirement already satisfied: numpy>=1.15 in c:\\programdata\\anaconda3\\lib\\site-packages (from seaborn) (1.20.3)\n",
      "Requirement already satisfied: pandas>=0.23 in c:\\programdata\\anaconda3\\lib\\site-packages (from seaborn) (1.3.4)\n",
      "Requirement already satisfied: kiwisolver>=1.0.1 in c:\\programdata\\anaconda3\\lib\\site-packages (from matplotlib>=2.2->seaborn) (1.3.1)\n",
      "Requirement already satisfied: pillow>=6.2.0 in c:\\programdata\\anaconda3\\lib\\site-packages (from matplotlib>=2.2->seaborn) (8.4.0)\n",
      "Requirement already satisfied: cycler>=0.10 in c:\\programdata\\anaconda3\\lib\\site-packages (from matplotlib>=2.2->seaborn) (0.10.0)\n",
      "Requirement already satisfied: pyparsing>=2.2.1 in c:\\programdata\\anaconda3\\lib\\site-packages (from matplotlib>=2.2->seaborn) (3.0.4)\n",
      "Requirement already satisfied: python-dateutil>=2.7 in c:\\programdata\\anaconda3\\lib\\site-packages (from matplotlib>=2.2->seaborn) (2.8.2)\n",
      "Requirement already satisfied: six in c:\\programdata\\anaconda3\\lib\\site-packages (from cycler>=0.10->matplotlib>=2.2->seaborn) (1.16.0)\n",
      "Requirement already satisfied: pytz>=2017.3 in c:\\programdata\\anaconda3\\lib\\site-packages (from pandas>=0.23->seaborn) (2021.3)\n"
     ]
    }
   ],
   "source": [
    "!pip install seaborn"
   ]
  },
  {
   "cell_type": "code",
   "execution_count": 36,
   "metadata": {},
   "outputs": [
    {
     "name": "stdout",
     "output_type": "stream",
     "text": [
      "Requirement already satisfied: matplotlib in c:\\programdata\\anaconda3\\lib\\site-packages (3.4.3)\n",
      "Requirement already satisfied: numpy>=1.16 in c:\\programdata\\anaconda3\\lib\\site-packages (from matplotlib) (1.20.3)\n",
      "Requirement already satisfied: pillow>=6.2.0 in c:\\programdata\\anaconda3\\lib\\site-packages (from matplotlib) (8.4.0)\n",
      "Requirement already satisfied: kiwisolver>=1.0.1 in c:\\programdata\\anaconda3\\lib\\site-packages (from matplotlib) (1.3.1)\n",
      "Requirement already satisfied: python-dateutil>=2.7 in c:\\programdata\\anaconda3\\lib\\site-packages (from matplotlib) (2.8.2)\n",
      "Requirement already satisfied: pyparsing>=2.2.1 in c:\\programdata\\anaconda3\\lib\\site-packages (from matplotlib) (3.0.4)\n",
      "Requirement already satisfied: cycler>=0.10 in c:\\programdata\\anaconda3\\lib\\site-packages (from matplotlib) (0.10.0)\n",
      "Requirement already satisfied: six in c:\\programdata\\anaconda3\\lib\\site-packages (from cycler>=0.10->matplotlib) (1.16.0)\n"
     ]
    }
   ],
   "source": [
    "!pip install matplotlib"
   ]
  },
  {
   "cell_type": "code",
   "execution_count": 37,
   "metadata": {},
   "outputs": [
    {
     "name": "stdout",
     "output_type": "stream",
     "text": [
      "Requirement already satisfied: geopy in c:\\programdata\\anaconda3\\lib\\site-packages (2.2.0)\n",
      "Requirement already satisfied: geographiclib<2,>=1.49 in c:\\programdata\\anaconda3\\lib\\site-packages (from geopy) (1.52)\n"
     ]
    }
   ],
   "source": [
    "!pip install geopy"
   ]
  },
  {
   "cell_type": "code",
   "execution_count": 38,
   "metadata": {},
   "outputs": [
    {
     "name": "stdout",
     "output_type": "stream",
     "text": [
      "Requirement already satisfied: scikit-learn in c:\\programdata\\anaconda3\\lib\\site-packages (1.0.2)Note: you may need to restart the kernel to use updated packages.\n",
      "Requirement already satisfied: joblib>=0.11 in c:\\programdata\\anaconda3\\lib\\site-packages (from scikit-learn) (1.1.0)\n",
      "Requirement already satisfied: threadpoolctl>=2.0.0 in c:\\programdata\\anaconda3\\lib\\site-packages (from scikit-learn) (2.2.0)\n",
      "\n",
      "Requirement already satisfied: numpy>=1.14.6 in c:\\programdata\\anaconda3\\lib\\site-packages (from scikit-learn) (1.20.3)\n",
      "Requirement already satisfied: scipy>=1.1.0 in c:\\programdata\\anaconda3\\lib\\site-packages (from scikit-learn) (1.7.1)\n"
     ]
    }
   ],
   "source": [
    "pip install -U scikit-learn\n"
   ]
  },
  {
   "cell_type": "code",
   "execution_count": 39,
   "metadata": {
    "colab": {
     "base_uri": "https://localhost:8080/"
    },
    "id": "w2Kq7rFeoomm",
    "outputId": "15453a70-9b40-4098-aea9-0e08c7c4153f"
   },
   "outputs": [],
   "source": [
    "import pandas as pd\n",
    "import seaborn as sns\n",
    "import matplotlib.pyplot as plt\n",
    "df1 = pd.read_csv(r'C:\\Users\\hnade\\Downloads\\AI\\final_project_csvs\\NYPD_Complaint_Data_Historic.csv', low_memory=False)\n",
    "df2 = pd.read_csv(r'C:\\Users\\hnade\\Downloads\\AI\\final_project_csvs\\Crime_Column_Description.csv', low_memory=False)\n",
    "df3 = pd.read_csv(r'C:\\Users\\hnade\\Downloads\\AI\\final_project_csvs\\Population_by_Borough_NYC.csv', low_memory=False)\n",
    "#df4 = pd.read_csv('/content/gdrive/MyDrive/AI/final_project_csvs/ziptoborough.csv')\n"
   ]
  },
  {
   "cell_type": "code",
   "execution_count": 40,
   "metadata": {},
   "outputs": [],
   "source": [
    "df1=df1.iloc[200000:300000]"
   ]
  },
  {
   "cell_type": "code",
   "execution_count": 41,
   "metadata": {
    "id": "tKryC3bm41mp"
   },
   "outputs": [],
   "source": [
    "def makeCategories(df):\n",
    "  category = [health,residence,worship,pub,retail,Tranportation,Food_Beverage,finance,other]\n",
    "  residence_count = 0\n",
    "  health_count = 0\n",
    "  worship_count = 0\n",
    "  pub_count = 0\n",
    "  retial_count = 0\n",
    "  tranport_count = 0\n",
    "  foodbev_count = 0\n",
    "  finance_count = 0\n",
    "  other_count = 0\n",
    "  df['Food & beverage'] = 0\n",
    "\n",
    "  for a in df['PREM_TYP_DESC']:\n",
    "    if a in residence:      \n",
    "      residence_count += 1\n",
    "      \n",
    "    if a in other:\n",
    "      other_count += 1\n",
    "\n",
    "    if a in finance:\n",
    "      finance_count += 1\n",
    "\n",
    "    if a in Food_Beverage:\n",
    "      foodbev_count += 1\n",
    "      df['Food and beverage'] = 1\n",
    "      pass\n",
    "\n",
    "    if a in Tranportation:\n",
    "      tranport_count += 1\n",
    "\n",
    "    if a in retail:\n",
    "      retial_count += 1\n",
    "\n",
    "    if a in worship:\n",
    "      worship_count += 1\n",
    "        \n",
    "    if a in health:\n",
    "      health_count += 1\n",
    "      \n",
    "  print('residence',residence_count)\n",
    "  print('other',other_count)\n",
    "  print('finance',finance_count)\n",
    "  print('food',foodbev_count)        \n",
    "  print('Transport',tranport_count)\n",
    "  print('Retail',retial_count)\n",
    "  print('Worship',worship_count)\n",
    "  print('Health',health_count)\n",
    "\n",
    "  return residence_count, other_count, finance_count, foodbev_count, tranport_count, retial_count, worship_count, health_count, pub_count"
   ]
  },
  {
   "cell_type": "code",
   "execution_count": null,
   "metadata": {
    "id": "meHu0-yihWnZ"
   },
   "outputs": [],
   "source": []
  },
  {
   "cell_type": "code",
   "execution_count": 42,
   "metadata": {
    "id": "CBDQoLQBiIfg"
   },
   "outputs": [],
   "source": [
    "health = ['DRUG STORE','DOCTOR/DENTIST OFFICE','HOSPITAL']\n",
    "residence = ['RESIDENCE-HOUSE','RESIDENCE - APT. HOUSE','RESIDENCE - PUBLIC HOUSING']\n",
    "worship = ['CHURCH','SYNAGOGUE','OTHER HOUSE OF WORSHIP','MOSQUE']\n",
    "pub = ['STREET','PUBLIC BUILDING','PARK/PLAYGROUND','PARKING LOT/GARAGE (PUBLIC)','PRIVATE/PAROCHIAL SCHOOL','BOOK/CARD','MARINA/PIER',\n",
    "       'PUBLIC SCHOOL','CEMETERY']\n",
    "retail = ['DRY CLEANER/LAUNDRY','GAS STATION','CHAIN STORE','BEAUTY & NAIL SALON',\n",
    "          'COMMERCIAL BUILDING','HOTEL/MOTEL','SMALL MERCHANT','PARKING LOT/GARAGE (PRIVATE)',\n",
    "          'DEPARTMENT STORE','GYM/FITNESS FACILITY','VARIETY STORE','CLOTHING/BOUTIQUE','TELECOMM. STORE',\n",
    "          'JEWELRY','CANDY STORE','STORAGE FACILITY','VIDEO STORE']\n",
    "Tranportation = ['TUNNEL','TRANSIT - NYC SUBWAY','BUS (NYC TRANSIT)','FERRY/FERRY TERMINAL','BUS STOP','TAXI (LIVERY LICENSED)',\n",
    "                 'BRIDGE','AIRPORT TERMINAL','HIGHWAY/PARKWAY','BUS (OTHER)',\n",
    "                 'TRANSIT FACILITY (OTHER)','BUS TERMINAL','TAXI (YELLOW LICENSED)','TAXI/LIVERY (UNLICENSED)','TRAMWAY']\n",
    "Food_Beverage= ['BAR/NIGHT CLUB' , 'FAST FOOD' , 'RESTAURANT/DINER' , 'GROCERY/BODEGA' , 'FOOD SUPERMARKET' , 'SOCIAL CLUB/POLICY' , 'LIQUOR STORE']\n",
    "finance = ['CHECK CASHING BUSINESS','BANK','ATM','LOAN COMPANY']\n",
    "other = ['OTHER','STORE UNCLASSIFIED','CONSTRUCTION SITE','FACTORY/WAREHOUSE','OPEN AREAS (OPEN LOTS)','ABANDONED BUILDING','SHOE','PHOTO/COPY']"
   ]
  },
  {
   "cell_type": "code",
   "execution_count": 43,
   "metadata": {
    "colab": {
     "base_uri": "https://localhost:8080/",
     "height": 372
    },
    "id": "HNxU7_SU-su0",
    "outputId": "bd4eabce-8af5-4b22-bae4-b1b8a0605c39"
   },
   "outputs": [
    {
     "name": "stdout",
     "output_type": "stream",
     "text": [
      "<class 'pandas.core.frame.DataFrame'>\n",
      "RangeIndex: 100000 entries, 200000 to 299999\n",
      "Data columns (total 24 columns):\n",
      " #   Column             Non-Null Count   Dtype  \n",
      "---  ------             --------------   -----  \n",
      " 0   CMPLNT_NUM         100000 non-null  int64  \n",
      " 1   CMPLNT_FR_DT       99993 non-null   object \n",
      " 2   CMPLNT_FR_TM       100000 non-null  object \n",
      " 3   CMPLNT_TO_DT       80179 non-null   object \n",
      " 4   CMPLNT_TO_TM       80218 non-null   object \n",
      " 5   RPT_DT             100000 non-null  object \n",
      " 6   KY_CD              100000 non-null  int64  \n",
      " 7   OFNS_DESC          99704 non-null   object \n",
      " 8   PD_CD              99927 non-null   float64\n",
      " 9   PD_DESC            99927 non-null   object \n",
      " 10  CRM_ATPT_CPTD_CD   100000 non-null  object \n",
      " 11  LAW_CAT_CD         100000 non-null  object \n",
      " 12  JURIS_DESC         100000 non-null  object \n",
      " 13  BORO_NM            100000 non-null  object \n",
      " 14  ADDR_PCT_CD        100000 non-null  float64\n",
      " 15  LOC_OF_OCCUR_DESC  78355 non-null   object \n",
      " 16  PREM_TYP_DESC      99634 non-null   object \n",
      " 17  PARKS_NM           1375 non-null    object \n",
      " 18  HADEVELOPT         4879 non-null    object \n",
      " 19  X_COORD_CD         98442 non-null   float64\n",
      " 20  Y_COORD_CD         98442 non-null   float64\n",
      " 21  Latitude           98442 non-null   float64\n",
      " 22  Longitude          98442 non-null   float64\n",
      " 23  Lat_Lon            98442 non-null   object \n",
      "dtypes: float64(6), int64(2), object(16)\n",
      "memory usage: 18.3+ MB\n"
     ]
    }
   ],
   "source": [
    "df1.info()"
   ]
  },
  {
   "cell_type": "code",
   "execution_count": 44,
   "metadata": {
    "colab": {
     "base_uri": "https://localhost:8080/"
    },
    "id": "1Hv_etH6hLTr",
    "outputId": "4cb03ca4-e99f-4f1d-e75f-f5953f410073"
   },
   "outputs": [
    {
     "name": "stdout",
     "output_type": "stream",
     "text": [
      "residence 37708\n",
      "other 4011\n",
      "finance 638\n",
      "food 4946\n",
      "Transport 3896\n",
      "Retail 11082\n",
      "Worship 258\n",
      "Health 1565\n"
     ]
    }
   ],
   "source": [
    "residencecount, othercount, financecount, foodbevcount, tranportcount, retialcount, worshipcount, healthcount, pubcount = makeCategories(df1)"
   ]
  },
  {
   "cell_type": "code",
   "execution_count": 45,
   "metadata": {
    "id": "7Fk6cp3Q4Wak"
   },
   "outputs": [],
   "source": [
    "#Assign zipcodes to each row\n",
    "\n",
    "import geopy\n",
    "from geopy.point import Point\n",
    "\n",
    "def get_zipcode(df1, geolocator, Latitude, Longitude):\n",
    "  zipcode = 99999\n",
    "  try: \n",
    "    location = geolocator.reverse(Point(df1[\"Latitude\"], df1[\"Longitude\"]))\n",
    "    zipcode = location.raw['address']['postcode']\n",
    "    zipcode = int(zipcode)\n",
    "  except:\n",
    "    pass\n",
    "  return zipcode\n",
    "\n",
    "geolocator = geopy.Nominatim(user_agent='AI-application')\n",
    "df1['Zipcodes'] = df1.apply(get_zipcode, axis=1, geolocator=geolocator, Latitude=df1[\"Latitude\"], Longitude=df1[\"Longitude\"])\n",
    "df1.to_csv (r'C:\\Users\\hnade\\Downloads\\AI\\final_project_csvs\\export_dataframe3.csv', index = False, header=True)"
   ]
  },
  {
   "cell_type": "code",
   "execution_count": null,
   "metadata": {
    "id": "dLed35dF0JUr"
   },
   "outputs": [],
   "source": []
  },
  {
   "cell_type": "code",
   "execution_count": 46,
   "metadata": {
    "id": "Lh83y84zCasN"
   },
   "outputs": [
    {
     "data": {
      "text/html": [
       "<div>\n",
       "<style scoped>\n",
       "    .dataframe tbody tr th:only-of-type {\n",
       "        vertical-align: middle;\n",
       "    }\n",
       "\n",
       "    .dataframe tbody tr th {\n",
       "        vertical-align: top;\n",
       "    }\n",
       "\n",
       "    .dataframe thead th {\n",
       "        text-align: right;\n",
       "    }\n",
       "</style>\n",
       "<table border=\"1\" class=\"dataframe\">\n",
       "  <thead>\n",
       "    <tr style=\"text-align: right;\">\n",
       "      <th></th>\n",
       "      <th>CMPLNT_NUM</th>\n",
       "      <th>CMPLNT_FR_DT</th>\n",
       "      <th>CMPLNT_FR_TM</th>\n",
       "      <th>CMPLNT_TO_DT</th>\n",
       "      <th>CMPLNT_TO_TM</th>\n",
       "      <th>RPT_DT</th>\n",
       "      <th>KY_CD</th>\n",
       "      <th>OFNS_DESC</th>\n",
       "      <th>PD_CD</th>\n",
       "      <th>PD_DESC</th>\n",
       "      <th>...</th>\n",
       "      <th>PARKS_NM</th>\n",
       "      <th>HADEVELOPT</th>\n",
       "      <th>X_COORD_CD</th>\n",
       "      <th>Y_COORD_CD</th>\n",
       "      <th>Latitude</th>\n",
       "      <th>Longitude</th>\n",
       "      <th>Lat_Lon</th>\n",
       "      <th>Food &amp; beverage</th>\n",
       "      <th>Food and beverage</th>\n",
       "      <th>Zipcodes</th>\n",
       "    </tr>\n",
       "  </thead>\n",
       "  <tbody>\n",
       "    <tr>\n",
       "      <th>200000</th>\n",
       "      <td>155951315</td>\n",
       "      <td>8/5/2015</td>\n",
       "      <td>1:07:00</td>\n",
       "      <td>8/5/2015</td>\n",
       "      <td>1:10:00</td>\n",
       "      <td>8/5/2015</td>\n",
       "      <td>361</td>\n",
       "      <td>OFF. AGNST PUB ORD SENSBLTY &amp;</td>\n",
       "      <td>639.0</td>\n",
       "      <td>AGGRAVATED HARASSMENT 2</td>\n",
       "      <td>...</td>\n",
       "      <td>NaN</td>\n",
       "      <td>NaN</td>\n",
       "      <td>1026682.0</td>\n",
       "      <td>184432.0</td>\n",
       "      <td>40.672807</td>\n",
       "      <td>-73.847035</td>\n",
       "      <td>(40.67280651, -73.847034759)</td>\n",
       "      <td>0</td>\n",
       "      <td>1</td>\n",
       "      <td>99999</td>\n",
       "    </tr>\n",
       "    <tr>\n",
       "      <th>200001</th>\n",
       "      <td>473524825</td>\n",
       "      <td>8/5/2015</td>\n",
       "      <td>1:05:00</td>\n",
       "      <td>NaN</td>\n",
       "      <td>NaN</td>\n",
       "      <td>8/5/2015</td>\n",
       "      <td>235</td>\n",
       "      <td>DANGEROUS DRUGS</td>\n",
       "      <td>567.0</td>\n",
       "      <td>MARIJUANA, POSSESSION 4 &amp; 5</td>\n",
       "      <td>...</td>\n",
       "      <td>NaN</td>\n",
       "      <td>NaN</td>\n",
       "      <td>1004290.0</td>\n",
       "      <td>177828.0</td>\n",
       "      <td>40.654759</td>\n",
       "      <td>-73.927777</td>\n",
       "      <td>(40.654759, -73.927777134)</td>\n",
       "      <td>0</td>\n",
       "      <td>1</td>\n",
       "      <td>99999</td>\n",
       "    </tr>\n",
       "    <tr>\n",
       "      <th>200002</th>\n",
       "      <td>254773323</td>\n",
       "      <td>8/5/2015</td>\n",
       "      <td>1:05:00</td>\n",
       "      <td>8/5/2015</td>\n",
       "      <td>1:10:00</td>\n",
       "      <td>8/5/2015</td>\n",
       "      <td>105</td>\n",
       "      <td>ROBBERY</td>\n",
       "      <td>386.0</td>\n",
       "      <td>ROBBERY,PERSONAL ELECTRONIC DEVICE</td>\n",
       "      <td>...</td>\n",
       "      <td>NaN</td>\n",
       "      <td>NaN</td>\n",
       "      <td>1038981.0</td>\n",
       "      <td>184815.0</td>\n",
       "      <td>40.673790</td>\n",
       "      <td>-73.802694</td>\n",
       "      <td>(40.673790265, -73.802694082)</td>\n",
       "      <td>0</td>\n",
       "      <td>1</td>\n",
       "      <td>99999</td>\n",
       "    </tr>\n",
       "    <tr>\n",
       "      <th>200003</th>\n",
       "      <td>945004922</td>\n",
       "      <td>8/5/2015</td>\n",
       "      <td>1:01:00</td>\n",
       "      <td>NaN</td>\n",
       "      <td>NaN</td>\n",
       "      <td>8/5/2015</td>\n",
       "      <td>111</td>\n",
       "      <td>POSSESSION OF STOLEN PROPERTY</td>\n",
       "      <td>494.0</td>\n",
       "      <td>STOLEN PROPERTY 2,1,POSSESSION</td>\n",
       "      <td>...</td>\n",
       "      <td>NaN</td>\n",
       "      <td>NaN</td>\n",
       "      <td>1000665.0</td>\n",
       "      <td>246136.0</td>\n",
       "      <td>40.842255</td>\n",
       "      <td>-73.940675</td>\n",
       "      <td>(40.842254636, -73.940674937)</td>\n",
       "      <td>0</td>\n",
       "      <td>1</td>\n",
       "      <td>99999</td>\n",
       "    </tr>\n",
       "    <tr>\n",
       "      <th>200004</th>\n",
       "      <td>342562668</td>\n",
       "      <td>8/5/2015</td>\n",
       "      <td>1:00:00</td>\n",
       "      <td>NaN</td>\n",
       "      <td>NaN</td>\n",
       "      <td>8/5/2015</td>\n",
       "      <td>344</td>\n",
       "      <td>ASSAULT 3 &amp; RELATED OFFENSES</td>\n",
       "      <td>114.0</td>\n",
       "      <td>OBSTR BREATH/CIRCUL</td>\n",
       "      <td>...</td>\n",
       "      <td>NaN</td>\n",
       "      <td>NaN</td>\n",
       "      <td>1011646.0</td>\n",
       "      <td>253113.0</td>\n",
       "      <td>40.861377</td>\n",
       "      <td>-73.900959</td>\n",
       "      <td>(40.861377184, -73.90095931)</td>\n",
       "      <td>0</td>\n",
       "      <td>1</td>\n",
       "      <td>99999</td>\n",
       "    </tr>\n",
       "  </tbody>\n",
       "</table>\n",
       "<p>5 rows × 27 columns</p>\n",
       "</div>"
      ],
      "text/plain": [
       "        CMPLNT_NUM CMPLNT_FR_DT CMPLNT_FR_TM CMPLNT_TO_DT CMPLNT_TO_TM  \\\n",
       "200000   155951315     8/5/2015      1:07:00     8/5/2015      1:10:00   \n",
       "200001   473524825     8/5/2015      1:05:00          NaN          NaN   \n",
       "200002   254773323     8/5/2015      1:05:00     8/5/2015      1:10:00   \n",
       "200003   945004922     8/5/2015      1:01:00          NaN          NaN   \n",
       "200004   342562668     8/5/2015      1:00:00          NaN          NaN   \n",
       "\n",
       "          RPT_DT  KY_CD                      OFNS_DESC  PD_CD  \\\n",
       "200000  8/5/2015    361  OFF. AGNST PUB ORD SENSBLTY &  639.0   \n",
       "200001  8/5/2015    235                DANGEROUS DRUGS  567.0   \n",
       "200002  8/5/2015    105                        ROBBERY  386.0   \n",
       "200003  8/5/2015    111  POSSESSION OF STOLEN PROPERTY  494.0   \n",
       "200004  8/5/2015    344   ASSAULT 3 & RELATED OFFENSES  114.0   \n",
       "\n",
       "                                   PD_DESC  ... PARKS_NM HADEVELOPT  \\\n",
       "200000             AGGRAVATED HARASSMENT 2  ...      NaN        NaN   \n",
       "200001         MARIJUANA, POSSESSION 4 & 5  ...      NaN        NaN   \n",
       "200002  ROBBERY,PERSONAL ELECTRONIC DEVICE  ...      NaN        NaN   \n",
       "200003      STOLEN PROPERTY 2,1,POSSESSION  ...      NaN        NaN   \n",
       "200004                 OBSTR BREATH/CIRCUL  ...      NaN        NaN   \n",
       "\n",
       "       X_COORD_CD Y_COORD_CD   Latitude  Longitude  \\\n",
       "200000  1026682.0   184432.0  40.672807 -73.847035   \n",
       "200001  1004290.0   177828.0  40.654759 -73.927777   \n",
       "200002  1038981.0   184815.0  40.673790 -73.802694   \n",
       "200003  1000665.0   246136.0  40.842255 -73.940675   \n",
       "200004  1011646.0   253113.0  40.861377 -73.900959   \n",
       "\n",
       "                              Lat_Lon Food & beverage Food and beverage  \\\n",
       "200000   (40.67280651, -73.847034759)               0                 1   \n",
       "200001     (40.654759, -73.927777134)               0                 1   \n",
       "200002  (40.673790265, -73.802694082)               0                 1   \n",
       "200003  (40.842254636, -73.940674937)               0                 1   \n",
       "200004   (40.861377184, -73.90095931)               0                 1   \n",
       "\n",
       "        Zipcodes  \n",
       "200000     99999  \n",
       "200001     99999  \n",
       "200002     99999  \n",
       "200003     99999  \n",
       "200004     99999  \n",
       "\n",
       "[5 rows x 27 columns]"
      ]
     },
     "execution_count": 46,
     "metadata": {},
     "output_type": "execute_result"
    }
   ],
   "source": [
    "df1.head()"
   ]
  },
  {
   "cell_type": "markdown",
   "metadata": {
    "id": "yiRyutJAcGrs"
   },
   "source": [
    "HYPOTHESIS: Segregate Burrows based on type of crime. "
   ]
  },
  {
   "cell_type": "code",
   "execution_count": 47,
   "metadata": {
    "id": "pM78VVk-91ap"
   },
   "outputs": [
    {
     "data": {
      "text/html": [
       "<div>\n",
       "<style scoped>\n",
       "    .dataframe tbody tr th:only-of-type {\n",
       "        vertical-align: middle;\n",
       "    }\n",
       "\n",
       "    .dataframe tbody tr th {\n",
       "        vertical-align: top;\n",
       "    }\n",
       "\n",
       "    .dataframe thead th {\n",
       "        text-align: right;\n",
       "    }\n",
       "</style>\n",
       "<table border=\"1\" class=\"dataframe\">\n",
       "  <thead>\n",
       "    <tr style=\"text-align: right;\">\n",
       "      <th></th>\n",
       "      <th>Borough</th>\n",
       "      <th>2010</th>\n",
       "    </tr>\n",
       "  </thead>\n",
       "  <tbody>\n",
       "    <tr>\n",
       "      <th>0</th>\n",
       "      <td>NYC Total</td>\n",
       "      <td>8,242,624</td>\n",
       "    </tr>\n",
       "    <tr>\n",
       "      <th>1</th>\n",
       "      <td>Bronx</td>\n",
       "      <td>1,385,108</td>\n",
       "    </tr>\n",
       "    <tr>\n",
       "      <th>2</th>\n",
       "      <td>Brooklyn</td>\n",
       "      <td>2,552,911</td>\n",
       "    </tr>\n",
       "    <tr>\n",
       "      <th>3</th>\n",
       "      <td>Manhattan</td>\n",
       "      <td>1,585,873</td>\n",
       "    </tr>\n",
       "    <tr>\n",
       "      <th>4</th>\n",
       "      <td>Queens</td>\n",
       "      <td>2,250,002</td>\n",
       "    </tr>\n",
       "    <tr>\n",
       "      <th>5</th>\n",
       "      <td>Staten Island</td>\n",
       "      <td>468,730</td>\n",
       "    </tr>\n",
       "  </tbody>\n",
       "</table>\n",
       "</div>"
      ],
      "text/plain": [
       "            Borough       2010\n",
       "0         NYC Total  8,242,624\n",
       "1             Bronx  1,385,108\n",
       "2          Brooklyn  2,552,911\n",
       "3         Manhattan  1,585,873\n",
       "4            Queens  2,250,002\n",
       "5     Staten Island    468,730"
      ]
     },
     "execution_count": 47,
     "metadata": {},
     "output_type": "execute_result"
    }
   ],
   "source": [
    "# Pop Size\n",
    "feature_1 = df3[['Borough','2010']]\n",
    "feature_1"
   ]
  },
  {
   "cell_type": "code",
   "execution_count": 48,
   "metadata": {
    "id": "QbWbc0j889T7"
   },
   "outputs": [
    {
     "data": {
      "text/html": [
       "<div>\n",
       "<style scoped>\n",
       "    .dataframe tbody tr th:only-of-type {\n",
       "        vertical-align: middle;\n",
       "    }\n",
       "\n",
       "    .dataframe tbody tr th {\n",
       "        vertical-align: top;\n",
       "    }\n",
       "\n",
       "    .dataframe thead th {\n",
       "        text-align: right;\n",
       "    }\n",
       "</style>\n",
       "<table border=\"1\" class=\"dataframe\">\n",
       "  <thead>\n",
       "    <tr style=\"text-align: right;\">\n",
       "      <th></th>\n",
       "      <th>CMPLNT_FR_TM</th>\n",
       "      <th>BORO_NM</th>\n",
       "    </tr>\n",
       "    <tr>\n",
       "      <th>Zipcodes</th>\n",
       "      <th></th>\n",
       "      <th></th>\n",
       "    </tr>\n",
       "  </thead>\n",
       "  <tbody>\n",
       "    <tr>\n",
       "      <th>99999</th>\n",
       "      <td>1:07:00</td>\n",
       "      <td>QUEENS</td>\n",
       "    </tr>\n",
       "    <tr>\n",
       "      <th>99999</th>\n",
       "      <td>1:05:00</td>\n",
       "      <td>BROOKLYN</td>\n",
       "    </tr>\n",
       "    <tr>\n",
       "      <th>99999</th>\n",
       "      <td>1:05:00</td>\n",
       "      <td>QUEENS</td>\n",
       "    </tr>\n",
       "    <tr>\n",
       "      <th>99999</th>\n",
       "      <td>1:01:00</td>\n",
       "      <td>MANHATTAN</td>\n",
       "    </tr>\n",
       "    <tr>\n",
       "      <th>99999</th>\n",
       "      <td>1:00:00</td>\n",
       "      <td>BRONX</td>\n",
       "    </tr>\n",
       "  </tbody>\n",
       "</table>\n",
       "</div>"
      ],
      "text/plain": [
       "         CMPLNT_FR_TM    BORO_NM\n",
       "Zipcodes                        \n",
       "99999         1:07:00     QUEENS\n",
       "99999         1:05:00   BROOKLYN\n",
       "99999         1:05:00     QUEENS\n",
       "99999         1:01:00  MANHATTAN\n",
       "99999         1:00:00      BRONX"
      ]
     },
     "execution_count": 48,
     "metadata": {},
     "output_type": "execute_result"
    }
   ],
   "source": [
    "# Time of Day\n",
    "feature_set = df1[['CMPLNT_FR_TM','BORO_NM','Zipcodes']]\n",
    "feature_set.set_index('Zipcodes', inplace=True)\n",
    "feature_set.head()"
   ]
  },
  {
   "cell_type": "code",
   "execution_count": 49,
   "metadata": {
    "id": "29IUAZqFEMuO"
   },
   "outputs": [
    {
     "name": "stderr",
     "output_type": "stream",
     "text": [
      "C:\\Users\\hnade\\AppData\\Local\\Temp/ipykernel_39408/3093834656.py:1: SettingWithCopyWarning: \n",
      "A value is trying to be set on a copy of a slice from a DataFrame.\n",
      "Try using .loc[row_indexer,col_indexer] = value instead\n",
      "\n",
      "See the caveats in the documentation: https://pandas.pydata.org/pandas-docs/stable/user_guide/indexing.html#returning-a-view-versus-a-copy\n",
      "  feature_set['Count'] = df1.groupby(by='Zipcodes')['CMPLNT_NUM'].count()\n"
     ]
    },
    {
     "data": {
      "text/html": [
       "<div>\n",
       "<style scoped>\n",
       "    .dataframe tbody tr th:only-of-type {\n",
       "        vertical-align: middle;\n",
       "    }\n",
       "\n",
       "    .dataframe tbody tr th {\n",
       "        vertical-align: top;\n",
       "    }\n",
       "\n",
       "    .dataframe thead th {\n",
       "        text-align: right;\n",
       "    }\n",
       "</style>\n",
       "<table border=\"1\" class=\"dataframe\">\n",
       "  <thead>\n",
       "    <tr style=\"text-align: right;\">\n",
       "      <th></th>\n",
       "      <th>CMPLNT_FR_TM</th>\n",
       "      <th>BORO_NM</th>\n",
       "      <th>Count</th>\n",
       "    </tr>\n",
       "    <tr>\n",
       "      <th>Zipcodes</th>\n",
       "      <th></th>\n",
       "      <th></th>\n",
       "      <th></th>\n",
       "    </tr>\n",
       "  </thead>\n",
       "  <tbody>\n",
       "    <tr>\n",
       "      <th>99999</th>\n",
       "      <td>1:07:00</td>\n",
       "      <td>QUEENS</td>\n",
       "      <td>100000</td>\n",
       "    </tr>\n",
       "    <tr>\n",
       "      <th>99999</th>\n",
       "      <td>1:05:00</td>\n",
       "      <td>BROOKLYN</td>\n",
       "      <td>100000</td>\n",
       "    </tr>\n",
       "    <tr>\n",
       "      <th>99999</th>\n",
       "      <td>1:05:00</td>\n",
       "      <td>QUEENS</td>\n",
       "      <td>100000</td>\n",
       "    </tr>\n",
       "    <tr>\n",
       "      <th>99999</th>\n",
       "      <td>1:01:00</td>\n",
       "      <td>MANHATTAN</td>\n",
       "      <td>100000</td>\n",
       "    </tr>\n",
       "    <tr>\n",
       "      <th>99999</th>\n",
       "      <td>1:00:00</td>\n",
       "      <td>BRONX</td>\n",
       "      <td>100000</td>\n",
       "    </tr>\n",
       "  </tbody>\n",
       "</table>\n",
       "</div>"
      ],
      "text/plain": [
       "         CMPLNT_FR_TM    BORO_NM   Count\n",
       "Zipcodes                                \n",
       "99999         1:07:00     QUEENS  100000\n",
       "99999         1:05:00   BROOKLYN  100000\n",
       "99999         1:05:00     QUEENS  100000\n",
       "99999         1:01:00  MANHATTAN  100000\n",
       "99999         1:00:00      BRONX  100000"
      ]
     },
     "execution_count": 49,
     "metadata": {},
     "output_type": "execute_result"
    }
   ],
   "source": [
    "feature_set['Count'] = df1.groupby(by='Zipcodes')['CMPLNT_NUM'].count()\n",
    "\n",
    "# Datetime conversion using astype:\n",
    "#feature_set['CMPLNT_FR_TM'] = feature_set['CMPLNT_FR_TM'].astype('datetime64[ns]')\n",
    "feature_set.head()"
   ]
  },
  {
   "cell_type": "code",
   "execution_count": 50,
   "metadata": {
    "id": "g0euV_6fbdyc"
   },
   "outputs": [],
   "source": [
    "#if time between 6pm and 4am, and count > 10, then high_crime\n",
    "#if time between 6pm and 4am, and count < 10 but > 5, then medium_crime\n",
    "#if time between 6pm and 4am, and count < 5, then low_crime\n"
   ]
  }
 ],
 "metadata": {
  "colab": {
   "collapsed_sections": [],
   "name": "Copy of ProjectArtificalIntelligenceFinal-Lindo.ipynb",
   "provenance": []
  },
  "kernelspec": {
   "display_name": "Python 3 (ipykernel)",
   "language": "python",
   "name": "python3"
  },
  "language_info": {
   "codemirror_mode": {
    "name": "ipython",
    "version": 3
   },
   "file_extension": ".py",
   "mimetype": "text/x-python",
   "name": "python",
   "nbconvert_exporter": "python",
   "pygments_lexer": "ipython3",
   "version": "3.9.7"
  }
 },
 "nbformat": 4,
 "nbformat_minor": 1
}
